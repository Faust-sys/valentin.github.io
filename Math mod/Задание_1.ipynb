{
 "cells": [
  {
   "cell_type": "markdown",
   "metadata": {
    "colab_type": "text",
    "id": "rbNYXOjcCaAf",
    "nteract": {
     "transient": {
      "deleting": false
     }
    }
   },
   "source": [
    "# Важно!\n",
    "Придерживайтесь эталонного вывода в коде каждого задания, чтобы избежать расхождений в трактовках условий задания."
   ]
  },
  {
   "cell_type": "markdown",
   "metadata": {
    "colab_type": "text",
    "id": "AcA1aOz_tMep"
   },
   "source": [
    "## Задача 1\n",
    "\n",
    "Создать переменную a = 10, возвести значение в 3 степень и найти остаток от деления на 3."
   ]
  },
  {
   "cell_type": "code",
   "execution_count": null,
   "metadata": {
    "colab": {},
    "colab_type": "code",
    "execution": {
     "iopub.execute_input": "2020-06-02T07:44:18.632Z",
     "iopub.status.busy": "2020-06-02T07:44:18.628Z",
     "iopub.status.idle": "2020-06-02T07:44:18.642Z",
     "shell.execute_reply": "2020-06-02T07:44:18.646Z"
    },
    "id": "TiGS6kFKtIFQ"
   },
   "outputs": [
    {
     "name": "stdout",
     "output_type": "stream",
     "text": [
      "10.0\n",
      "1.0\n"
     ]
    }
   ],
   "source": [
    "a = 10\n",
    "print((a ** 3) % 3)"
   ]
  },
  {
   "cell_type": "markdown",
   "metadata": {
    "colab_type": "text",
    "id": "PbqrQxjKtNNj"
   },
   "source": [
    "## Задача 2\n",
    "\n",
    "Найдите площадь круга с радиусом 1.23456.\n",
    "\n",
    "(Считаем π = 3.14)"
   ]
  },
  {
   "cell_type": "code",
   "execution_count": 6,
   "metadata": {
    "colab": {},
    "colab_type": "code",
    "execution": {
     "iopub.execute_input": "2020-06-02T07:44:36.483Z",
     "iopub.status.busy": "2020-06-02T07:44:36.480Z",
     "iopub.status.idle": "2020-06-02T07:44:36.489Z",
     "shell.execute_reply": "2020-06-02T07:44:36.491Z"
    },
    "id": "4PaFmY3FtNVz"
   },
   "outputs": [
    {
     "name": "stdout",
     "output_type": "stream",
     "text": [
      "4.785794555904\n"
     ]
    }
   ],
   "source": [
    "r = 1.23456\n",
    "π = 3.14\n",
    "s = π * r ** 2\n",
    "print(s)"
   ]
  },
  {
   "cell_type": "markdown",
   "metadata": {
    "colab_type": "text",
    "id": "JpGOohPWtNch"
   },
   "source": [
    "## Задача 3\n",
    "\n",
    "Найдите, истинно ли, что 2 в 10 степени больше 1000 при условии, что 4 в 7й степени меньше 8 в 5й.\n",
    "\n"
   ]
  },
  {
   "cell_type": "code",
   "execution_count": 7,
   "metadata": {
    "colab": {},
    "colab_type": "code",
    "execution": {
     "iopub.execute_input": "2020-06-02T07:45:38.843Z",
     "iopub.status.busy": "2020-06-02T07:45:38.841Z",
     "iopub.status.idle": "2020-06-02T07:45:38.852Z",
     "shell.execute_reply": "2020-06-02T07:45:38.855Z"
    },
    "id": "tUOVzpHrtNjT"
   },
   "outputs": [
    {
     "name": "stdout",
     "output_type": "stream",
     "text": [
      "True\n"
     ]
    }
   ],
   "source": [
    "\n",
    "print ((a ** 10 > 1000) and (4 ** 7 < 8 ** 5))"
   ]
  },
  {
   "cell_type": "markdown",
   "metadata": {
    "colab_type": "text",
    "id": "8xTeQJz4tNqM"
   },
   "source": [
    "## Задача 4\n",
    "\n",
    "Мы принимаем целое число на ввод с клавиатуры (код предоставлен), вывести \"цена выше рынка\", если число выше 1200, \"цена ниже рыночной\", если число меньше 800 и \"все ок\" в остальных случаях.\n",
    "\n",
    "price = int(input('Введите цену товара: '))"
   ]
  },
  {
   "cell_type": "code",
   "execution_count": null,
   "metadata": {
    "colab": {},
    "colab_type": "code",
    "execution": {
     "iopub.execute_input": "2020-06-02T07:50:24.208Z",
     "iopub.status.busy": "2020-06-02T07:50:24.206Z",
     "iopub.status.idle": "2020-06-02T07:50:31.739Z",
     "shell.execute_reply": "2020-06-02T07:50:31.747Z"
    },
    "id": "jmE7VLuItNwz"
   },
   "outputs": [
    {
     "name": "stdout",
     "output_type": "stream",
     "text": [
      "все ок\n"
     ]
    }
   ],
   "source": [
    "price = int(input('Введите цену товара: '))\n",
    "if price > 1200:\n",
    "    print(\"Цена выше рынка\")\n",
    "elif price < 800:\n",
    "    print (\"Цена ниже рыночной\")\n",
    "else:\n",
    "    print (\"все ок\")"
   ]
  },
  {
   "cell_type": "markdown",
   "metadata": {
    "colab_type": "text",
    "id": "OoBU8ZITtN2o"
   },
   "source": [
    "## Задача 5\n",
    "\n",
    "Распечатайте с 4 по 8 символ фразы \"Привет мир!\" приведенные к верхнему регистру.\n",
    "\n",
    "Отсчет c 0, пробел тоже символ *\n"
   ]
  },
  {
   "cell_type": "code",
   "execution_count": null,
   "metadata": {
    "colab": {},
    "colab_type": "code",
    "execution": {
     "iopub.execute_input": "2020-06-02T07:48:13.752Z",
     "iopub.status.busy": "2020-06-02T07:48:13.749Z",
     "iopub.status.idle": "2020-06-02T07:48:13.757Z",
     "shell.execute_reply": "2020-06-02T07:48:13.759Z"
    },
    "id": "1x7gxVH-tN8x"
   },
   "outputs": [
    {
     "name": "stdout",
     "output_type": "stream",
     "text": [
      "ет ми\n"
     ]
    }
   ],
   "source": [
    "a = \"Привет мир!\"\n",
    "a.upper\n",
    "print(a[4:9])\n",
    "# Если \"П\" - первый символ, то print(a[3:8])"
   ]
  },
  {
   "cell_type": "markdown",
   "metadata": {
    "colab_type": "text",
    "id": "vKmTHQYatOD_"
   },
   "source": [
    "## Задача 6\n",
    "\n",
    "Создайте переменную, которая хранит описание этой задачи как строку, разделите слова по пробелам и приведите к нижнему регистру."
   ]
  },
  {
   "cell_type": "code",
   "execution_count": 26,
   "metadata": {
    "colab": {},
    "colab_type": "code",
    "execution": {
     "iopub.execute_input": "2020-06-02T07:51:00.727Z",
     "iopub.status.busy": "2020-06-02T07:51:00.723Z",
     "iopub.status.idle": "2020-06-02T07:51:00.733Z",
     "shell.execute_reply": "2020-06-02T07:51:00.735Z"
    },
    "id": "JQRE7KPJtOJ9"
   },
   "outputs": [
    {
     "name": "stdout",
     "output_type": "stream",
     "text": [
      "['создайте', 'переменную,', 'которая', 'хранит', 'описание', 'этой', 'задачи', 'как', 'строку,', 'разделите', 'слова', 'по', 'пробелам', 'и', 'приведите', 'к', 'нижнему', 'регистру.']\n"
     ]
    }
   ],
   "source": [
    "s = \"Создайте переменную, которая хранит описание этой задачи как строку, разделите слова по пробелам и приведите к нижнему регистру.\"\n",
    "print(s.lower().split())"
   ]
  },
  {
   "cell_type": "markdown",
   "metadata": {
    "colab_type": "text",
    "id": "hd1iSZtNtank"
   },
   "source": [
    "## Задание 7\n",
    "\n",
    "Напишите код, который проверяет, является ли переменная x строкой, и если да, то если в строке больше одного слова (слово--последовательность подряд идущих символов без пробелов), то выводит на экран количество слов в этой строке и сами слова в алфавитном порядке.\n",
    "\n",
    "Подсказка:\n",
    "Метод .sort() подходит и для сортировки слов"
   ]
  },
  {
   "cell_type": "code",
   "execution_count": null,
   "metadata": {},
   "outputs": [],
   "source": [
    "x = 'z hello world'\n",
    "\n",
    "if isinstance(x, str) == True:\n",
    "    if len(x.split()) > 1:\n",
    "        x_splited = x.split()\n",
    "        x_splited.sort()\n",
    "        print(len(x.split()), x_splited)\n",
    "    else:\n",
    "        print(\"В строке меньше двух слов\")\n",
    "else:\n",
    "    print(\"Это не строка\")"
   ]
  },
  {
   "cell_type": "markdown",
   "metadata": {
    "colab_type": "text",
    "id": "PL2Hcn1Hta2F"
   },
   "source": [
    "## Задание 8\n",
    "\n",
    "Напишите код, который все элементы массива x с **нечетными** индексами переставит в обратном порядке.\n",
    "\n",
    "Т.е. если x = [0, 1, 2, 3, 4, 5, 6, 7, 8, 9], то код должен получать [0, 9, 2, 7, 4, 5, 6, 3, 8, 1]"
   ]
  },
  {
   "cell_type": "code",
   "execution_count": 3,
   "metadata": {
    "colab": {},
    "colab_type": "code",
    "execution": {
     "iopub.execute_input": "2020-06-02T07:52:17.297Z",
     "iopub.status.busy": "2020-06-02T07:52:17.293Z",
     "iopub.status.idle": "2020-06-02T07:52:17.303Z",
     "shell.execute_reply": "2020-06-02T07:52:17.306Z"
    },
    "id": "4trHl8jvta88"
   },
   "outputs": [
    {
     "name": "stdout",
     "output_type": "stream",
     "text": [
      "[0, 9, 2, 7, 4, 5, 6, 3, 8, 1]\n"
     ]
    }
   ],
   "source": [
    "x = [0, 1, 2, 3, 4, 5, 6, 7, 8, 9]\n",
    "\n",
    "odd_list = x[1::2]\n",
    "odd_list_reverse = odd_list[::-1]\n",
    "\n",
    "counter = 0\n",
    "\n",
    "for num in range(1, len(x), 2):\n",
    "    x[num] = odd_list_reverse[counter]\n",
    "    counter += 1\n",
    "\n",
    "print (x)\n"
   ]
  },
  {
   "cell_type": "markdown",
   "metadata": {
    "colab_type": "text",
    "id": "kd-omME5tbDh"
   },
   "source": [
    "## Задание 9\n",
    "\n",
    "Напишите цикл, который выводит все числа от 0 до 500, делящиеся на 7, если в них есть цифра 8.\n",
    "\n",
    "*Подсказка*: переменную типа int можно привести к типу str:\n",
    "```\n",
    "x = 5\n",
    "y = str(x)\n",
    "```"
   ]
  },
  {
   "cell_type": "code",
   "execution_count": 15,
   "metadata": {
    "colab": {},
    "colab_type": "code",
    "execution": {
     "iopub.execute_input": "2020-06-02T07:52:35.814Z",
     "iopub.status.busy": "2020-06-02T07:52:35.812Z",
     "iopub.status.idle": "2020-06-02T07:52:35.821Z",
     "shell.execute_reply": "2020-06-02T07:52:35.824Z"
    },
    "id": "FJm8xpcYtbJm"
   },
   "outputs": [
    {
     "name": "stdout",
     "output_type": "stream",
     "text": [
      "[28, 84, 98, 168, 182, 189, 238, 280, 287, 308, 378, 385, 448, 483]\n"
     ]
    }
   ],
   "source": [
    "number_list = []\n",
    "\n",
    "for x in range (501):\n",
    "    \n",
    "    if x%7 == 0:\n",
    "        x = str(x)\n",
    "        if x.find(\"8\") != -1:\n",
    "            x = int(x)\n",
    "            number_list.append(x)\n",
    "print (number_list)\n",
    "    "
   ]
  }
 ],
 "metadata": {
  "colab": {
   "name": "задания_модуль1.ipynb",
   "provenance": []
  },
  "kernelspec": {
   "display_name": "Python 3",
   "language": "python",
   "name": "python3"
  },
  "language_info": {
   "codemirror_mode": {
    "name": "ipython",
    "version": 3
   },
   "file_extension": ".py",
   "mimetype": "text/x-python",
   "name": "python",
   "nbconvert_exporter": "python",
   "pygments_lexer": "ipython3",
   "version": "3.13.4"
  },
  "nteract": {
   "version": "0.23.3"
  }
 },
 "nbformat": 4,
 "nbformat_minor": 1
}
