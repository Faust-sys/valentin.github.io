{
 "cells": [
  {
   "cell_type": "markdown",
   "metadata": {},
   "source": [
    "## Выполните следующие задания на Python без использования сторонних библиотек"
   ]
  },
  {
   "cell_type": "markdown",
   "metadata": {},
   "source": [
    "## Задача 1\n",
    "\n",
    "Напишите программу, которая будет выводить на экран площадь квадрата и его периметр. Сторона квадрата будет равна 25.\n",
    "\n"
   ]
  },
  {
   "cell_type": "code",
   "execution_count": 6,
   "metadata": {},
   "outputs": [
    {
     "name": "stdout",
     "output_type": "stream",
     "text": [
      "Периметр и площадь квадрата со стороной 25 равна:\n",
      "S = 100\n",
      "P = 625\n"
     ]
    }
   ],
   "source": [
    "sqear_side = 25\n",
    "\n",
    "print (\"Периметр и площадь квадрата со стороной \"+str(sqear_side)+\" равна:\\n\"+\"S = \"+str(sqear_side*4)+\"\\n\"+\"P = \"+str(sqear_side*sqear_side))"
   ]
  },
  {
   "cell_type": "markdown",
   "metadata": {},
   "source": [
    "## Задача 2\n",
    "Напишите функцию, которая будет принимать два числа и считать сумму квадратов этих двух чисел, запишите своё вычисление в переменную squared. (Подсказка: Помните, чтобы записать результат функции в переменную, она должна этот результат внутри себя возвращать! Return). \n",
    "\n"
   ]
  },
  {
   "cell_type": "code",
   "execution_count": 12,
   "metadata": {},
   "outputs": [
    {
     "name": "stdout",
     "output_type": "stream",
     "text": [
      "Сумма квадратов чисел а и b = 89\n"
     ]
    }
   ],
   "source": [
    "def Square_sum(square_side_1, square_side_2):\n",
    "    return(square_side_1**2+square_side_2**2)\n",
    "\n",
    "a = int(input (\"Введите первое число\\na = \"))\n",
    "b = int(input(\"Введите второе число\\nb = \"))\n",
    "\n",
    "print(\"Сумма квадратов чисел а и b = \"+str(Square_sum(a,b)))\n"
   ]
  },
  {
   "cell_type": "markdown",
   "metadata": {},
   "source": [
    "## Задача 3\n",
    "Напишите функцию, которая будет принимать на вход список  [“male“,“male“,“female“,“male“,“male“,“female“,”female“] и возвращать его в обратном порядке. Запишите список в переменную new_list. Подсказка: Вам поможет обратная индексация к спискам ! [::-1]. \n",
    "\n"
   ]
  },
  {
   "cell_type": "code",
   "execution_count": 15,
   "metadata": {},
   "outputs": [
    {
     "name": "stdout",
     "output_type": "stream",
     "text": [
      "['female', 'female', 'male', 'male', 'female', 'male', 'male']\n"
     ]
    }
   ],
   "source": [
    "list = [\"male\",\"male\",\"female\",\"male\",\"male\",\"female\",\"female\"]\n",
    "\n",
    "def List_reverser(list):\n",
    "    new_list = list[::-1]\n",
    "    return(new_list)\n",
    "\n",
    "new_list = List_reverser(list)\n",
    "print(List_reverser(list))\n",
    "        "
   ]
  },
  {
   "cell_type": "markdown",
   "metadata": {},
   "source": [
    "## Задача 4\n",
    "Напишите функцию, которая будет принимать на вход список (new_list) и идти по нему в цикле. На выходе функция должна вывести на экран: Кол-во мужчин 4, Кол-во женщин 3.\n",
    "\n"
   ]
  },
  {
   "cell_type": "code",
   "execution_count": 16,
   "metadata": {},
   "outputs": [
    {
     "name": "stdout",
     "output_type": "stream",
     "text": [
      "Кол-во мужчин: 4\n",
      "Кол-во женщин: 3\n"
     ]
    }
   ],
   "source": [
    "males = 0 \n",
    "females = 0\n",
    "\n",
    "for person in new_list:\n",
    "    if person == \"male\":\n",
    "        males += 1\n",
    "    if person == \"female\":\n",
    "        females += 1\n",
    "\n",
    "print (\"Кол-во мужчин: \"+str(males)+\"\\nКол-во женщин: \"+str(females))"
   ]
  },
  {
   "cell_type": "markdown",
   "metadata": {},
   "source": [
    "## Задача 5\n",
    "Напишите функцию, которая будет принимать строку (Например: “female”), а возвращать словарь где ключи — это символы строки, а значения кол-во символов в строке. \n",
    "\n"
   ]
  },
  {
   "cell_type": "code",
   "execution_count": 4,
   "metadata": {},
   "outputs": [
    {
     "name": "stdout",
     "output_type": "stream",
     "text": [
      "{'h': 1, 'e': 1, 'l': 2, 'o': 1, 'w': 1}\n"
     ]
    }
   ],
   "source": [
    "def Leter_counter(string):\n",
    "    d = {}\n",
    "    for letter_1 in string:\n",
    "        counter = 0\n",
    "        for letter_2 in string:\n",
    "            if letter_1 == letter_2:\n",
    "                counter += 1\n",
    "                d[letter_1] = counter\n",
    "    return(d)\n",
    "string = input(\"введите строку\")\n",
    "print (Leter_counter(string))\n",
    "\n"
   ]
  },
  {
   "cell_type": "markdown",
   "metadata": {},
   "source": [
    "## Задача 6\n",
    "Воспользуйтесь функцией range в Python и выведите на экран сумму квадратов от 1 до 100 (включительно). \n",
    "\n"
   ]
  },
  {
   "cell_type": "code",
   "execution_count": 20,
   "metadata": {},
   "outputs": [
    {
     "name": "stdout",
     "output_type": "stream",
     "text": [
      "338350\n"
     ]
    }
   ],
   "source": [
    "sum = 0 \n",
    "for num in range(1,101):\n",
    "    sum = sum + num**2\n",
    "print(sum)"
   ]
  },
  {
   "cell_type": "markdown",
   "metadata": {},
   "source": [
    "## Задача 7\n",
    "Укажите какой метод добавит значение в конец списка. Приведите пример.\n",
    "\n"
   ]
  },
  {
   "cell_type": "code",
   "execution_count": 21,
   "metadata": {},
   "outputs": [
    {
     "name": "stdout",
     "output_type": "stream",
     "text": [
      "[1, 2, 3, 4]\n"
     ]
    }
   ],
   "source": [
    "x = [1, 2, 3]\n",
    "x.append(4)\n",
    "print(x)"
   ]
  },
  {
   "cell_type": "markdown",
   "metadata": {},
   "source": [
    "## Задача 8\n",
    "Как объединить два списка \"a\" и \"b\" в один новый список \"c\"? Приведите пример.\n",
    "\n"
   ]
  },
  {
   "cell_type": "code",
   "execution_count": 22,
   "metadata": {},
   "outputs": [
    {
     "name": "stdout",
     "output_type": "stream",
     "text": [
      "[1, 2, 3, 4, 5, 6]\n"
     ]
    }
   ],
   "source": [
    "a = [1, 2, 3]\n",
    "b = [4, 5, 6]\n",
    "a.extend(b)\n",
    "print (a)"
   ]
  },
  {
   "cell_type": "markdown",
   "metadata": {},
   "source": [
    "## Задача 9\n",
    "Укажите какой метод посчитает количество значений 'a' в списке ['a', 'b', 'c', 'e', 'a', 'g', 'a', 'q']. Приведите пример.\n",
    "\n"
   ]
  },
  {
   "cell_type": "code",
   "execution_count": 23,
   "metadata": {},
   "outputs": [
    {
     "name": "stdout",
     "output_type": "stream",
     "text": [
      "8\n"
     ]
    }
   ],
   "source": [
    "a = ['a', 'b', 'c', 'e', 'a', 'g', 'a', 'q']\n",
    "print(len(a))"
   ]
  },
  {
   "cell_type": "markdown",
   "metadata": {},
   "source": [
    "## Задача 10\n",
    "Исправьте следующий код, так чтобы он отрабатывал правильно"
   ]
  },
  {
   "cell_type": "code",
   "execution_count": 17,
   "metadata": {},
   "outputs": [
    {
     "name": "stdout",
     "output_type": "stream",
     "text": [
      "x больше, либо равен y\n"
     ]
    }
   ],
   "source": [
    "x = 2**4\n",
    "y = 4**2\n",
    "if x < y:\n",
    "    print(\"x меньше y\") \n",
    "else: \n",
    "    print(\"x больше, либо равен y\")"
   ]
  }
 ],
 "metadata": {
  "kernelspec": {
   "display_name": "Python 3",
   "language": "python",
   "name": "python3"
  },
  "language_info": {
   "codemirror_mode": {
    "name": "ipython",
    "version": 3
   },
   "file_extension": ".py",
   "mimetype": "text/x-python",
   "name": "python",
   "nbconvert_exporter": "python",
   "pygments_lexer": "ipython3",
   "version": "3.13.4"
  }
 },
 "nbformat": 4,
 "nbformat_minor": 2
}
