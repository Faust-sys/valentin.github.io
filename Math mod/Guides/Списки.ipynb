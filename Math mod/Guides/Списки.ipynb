{
  "cells": [
    {
      "attachments": {},
      "cell_type": "markdown",
      "metadata": {
        "id": "MiaDtiA8NODL"
      },
      "source": [
        "## Списки\n",
        "\n",
        "_Список_ (list) - изменяемый (mutable) контейнер. Обращение к элементу списка - по индексу."
      ]
    },
    {
      "cell_type": "markdown",
      "metadata": {},
      "source": [
        "Создание списка\n",
        "Для создания списка применяются квадратные скобки [], внутри которых через запятую перечисляются элементы списка. Например, определим список чисел:"
      ]
    },
    {
      "cell_type": "code",
      "execution_count": 2,
      "metadata": {
        "id": "scvtuPlcNODL"
      },
      "outputs": [],
      "source": [
        "lst=[1,2,5, 123, -4]"
      ]
    },
    {
      "cell_type": "markdown",
      "metadata": {},
      "source": [
        "Подобным образом можно определять списки с данными других типов, например, определим список строк:"
      ]
    },
    {
      "cell_type": "code",
      "execution_count": 3,
      "metadata": {},
      "outputs": [],
      "source": [
        "\t\n",
        "people = [\"Tom\", \"Sam\", \"Bob\"]"
      ]
    },
    {
      "cell_type": "markdown",
      "metadata": {},
      "source": [
        "Также для создания списка можно использовать функцию-конструктор list()\n",
        "Оба этих определения списка аналогичны - они создают пустой список."
      ]
    },
    {
      "cell_type": "code",
      "execution_count": 4,
      "metadata": {},
      "outputs": [],
      "source": [
        "numbers1 = []\n",
        "numbers2 = list()"
      ]
    },
    {
      "cell_type": "markdown",
      "metadata": {},
      "source": [
        "Конструктор list может принимать набор значений, на основе которых создается список:"
      ]
    },
    {
      "cell_type": "code",
      "execution_count": 5,
      "metadata": {},
      "outputs": [
        {
          "name": "stdout",
          "output_type": "stream",
          "text": [
            "[1, 2, 3, 4, 5]\n",
            "['H', 'e', 'l', 'l', 'o']\n"
          ]
        }
      ],
      "source": [
        "numbers1 = [1, 2, 3, 4, 5]\n",
        "numbers2 = list(numbers1)\n",
        "print(numbers2)  # [1, 2, 3, 4, 5]\n",
        " \n",
        "letters = list(\"Hello\")\n",
        "print(letters)      # ['H', 'e', 'l', 'l', 'o']"
      ]
    },
    {
      "cell_type": "markdown",
      "metadata": {},
      "source": [
        "Для обращения к элементам списка надо использовать индексы, которые представляют номер элемента в списка. Индексы начинаются с нуля. То есть первый элемент будет иметь индекс 0, второй элемент - индекс 1 и так далее. Для обращения к элементам с конца можно использовать отрицательные индексы, начиная с -1. То есть у последнего элемента будет индекс -1, у предпоследнего - -2 и так далее."
      ]
    },
    {
      "cell_type": "code",
      "execution_count": 6,
      "metadata": {
        "colab": {
          "base_uri": "https://localhost:8080/"
        },
        "id": "XCmFIrz4NODL",
        "outputId": "300eed0c-72a5-4fab-ba78-7282880752c3"
      },
      "outputs": [
        {
          "name": "stdout",
          "output_type": "stream",
          "text": [
            "Tom\n",
            "Sam\n",
            "Bob\n",
            "Sam\n",
            "Bob\n",
            "Tom\n"
          ]
        }
      ],
      "source": [
        "people = [\"Tom\", \"Sam\", \"Bob\"]\n",
        "# получение элементов с начала списка\n",
        "print(people[0])   # Tom\n",
        "print(people[1])   # Sam\n",
        "print(people[2])   # Bob\n",
        " \n",
        "# получение элементов с конца списка\n",
        "print(people[-2])   # Sam\n",
        "print(people[-1])   # Bob\n",
        "print(people[-3])   # Tom"
      ]
    },
    {
      "cell_type": "markdown",
      "metadata": {},
      "source": [
        "Список необязательно должен содержать только однотипные объекты. Мы можем поместить в один и тот же список одновременно строки, числа, объекты других типов данных"
      ]
    },
    {
      "cell_type": "code",
      "execution_count": 7,
      "metadata": {
        "colab": {
          "base_uri": "https://localhost:8080/"
        },
        "id": "DYHv4ssENODL",
        "outputId": "e2f3bf07-514b-463c-cbc2-6df2ea4291ec"
      },
      "outputs": [
        {
          "data": {
            "text/plain": [
              "[1, 2.0, 3, 'four', True, [123, 321]]"
            ]
          },
          "execution_count": 7,
          "metadata": {},
          "output_type": "execute_result"
        }
      ],
      "source": [
        "lst = [1, 2.0, 3, 'four', True, [123,321]]\n",
        "lst"
      ]
    },
    {
      "cell_type": "code",
      "execution_count": 8,
      "metadata": {
        "colab": {
          "base_uri": "https://localhost:8080/"
        },
        "id": "tkz2v55RNODL",
        "outputId": "e1009234-943d-4a28-ae91-450762f77976"
      },
      "outputs": [
        {
          "data": {
            "text/plain": [
              "321"
            ]
          },
          "execution_count": 8,
          "metadata": {},
          "output_type": "execute_result"
        }
      ],
      "source": [
        "lst[5][1]"
      ]
    },
    {
      "cell_type": "code",
      "execution_count": 9,
      "metadata": {
        "colab": {
          "base_uri": "https://localhost:8080/"
        },
        "id": "A4kTz7bGNODL",
        "outputId": "28b97208-abac-44d0-9092-d65889ab79b7"
      },
      "outputs": [
        {
          "data": {
            "text/plain": [
              "['One', 2.0, 3, 'four', True, [123, 321]]"
            ]
          },
          "execution_count": 9,
          "metadata": {},
          "output_type": "execute_result"
        }
      ],
      "source": [
        "lst[0] = 'One'\n",
        "lst"
      ]
    },
    {
      "cell_type": "code",
      "execution_count": 10,
      "metadata": {
        "colab": {
          "base_uri": "https://localhost:8080/"
        },
        "id": "uM2S9GMrNODM",
        "outputId": "6f40d10c-61c7-4dee-bc4e-086a7df469eb"
      },
      "outputs": [
        {
          "data": {
            "text/plain": [
              "[]"
            ]
          },
          "execution_count": 10,
          "metadata": {},
          "output_type": "execute_result"
        }
      ],
      "source": [
        "[]"
      ]
    },
    {
      "cell_type": "code",
      "execution_count": 11,
      "metadata": {
        "colab": {
          "base_uri": "https://localhost:8080/"
        },
        "id": "uRlC6iizNODM",
        "outputId": "b5f658bf-8f7e-41fb-8bb8-188f122b833f"
      },
      "outputs": [
        {
          "data": {
            "text/plain": [
              "list"
            ]
          },
          "execution_count": 11,
          "metadata": {},
          "output_type": "execute_result"
        }
      ],
      "source": [
        "type(lst)"
      ]
    },
    {
      "cell_type": "code",
      "execution_count": 12,
      "metadata": {
        "colab": {
          "base_uri": "https://localhost:8080/"
        },
        "id": "y4hmCgFDNODM",
        "outputId": "0d8985b0-4e81-4926-a7bf-3bbb9b704098"
      },
      "outputs": [
        {
          "data": {
            "text/plain": [
              "6"
            ]
          },
          "execution_count": 12,
          "metadata": {},
          "output_type": "execute_result"
        }
      ],
      "source": [
        "len(lst)"
      ]
    },
    {
      "cell_type": "code",
      "execution_count": 13,
      "metadata": {
        "colab": {
          "base_uri": "https://localhost:8080/"
        },
        "id": "q8b5_f9BNODN",
        "outputId": "2397f294-e659-4485-e42f-8e011cc0a96a"
      },
      "outputs": [
        {
          "data": {
            "text/plain": [
              "['One', 2.0, [12, 'three'], 'four', True, [123, 321]]"
            ]
          },
          "execution_count": 13,
          "metadata": {},
          "output_type": "execute_result"
        }
      ],
      "source": [
        "lst[2] = [12, 'three'] # Можно добавить список в список!\n",
        "lst"
      ]
    },
    {
      "cell_type": "code",
      "execution_count": 14,
      "metadata": {
        "colab": {
          "base_uri": "https://localhost:8080/"
        },
        "id": "sjyTJrbFNODN",
        "outputId": "ddff1967-eb68-4cb0-8ab4-538c0d7fed5e"
      },
      "outputs": [
        {
          "data": {
            "text/plain": [
              "6"
            ]
          },
          "execution_count": 14,
          "metadata": {},
          "output_type": "execute_result"
        }
      ],
      "source": [
        "len(lst)"
      ]
    },
    {
      "cell_type": "markdown",
      "metadata": {},
      "source": [
        "Два списка считаются равными, если они содержат один и тот же набор элементов:"
      ]
    },
    {
      "cell_type": "code",
      "execution_count": 15,
      "metadata": {},
      "outputs": [
        {
          "name": "stdout",
          "output_type": "stream",
          "text": [
            "numbers1 equal to numbers2\n"
          ]
        }
      ],
      "source": [
        "numbers1 = [1, 2, 3, 4, 5]\n",
        "numbers2 = list([1, 2, 3, 4, 5])\n",
        "if numbers1 == numbers2:\n",
        "    print(\"numbers1 equal to numbers2\")\n",
        "else:\n",
        "    print(\"numbers1 is not equal to numbers2\")"
      ]
    },
    {
      "cell_type": "code",
      "execution_count": 16,
      "metadata": {},
      "outputs": [
        {
          "data": {
            "text/plain": [
              "['One', 2.0, [12, 'three'], 'four', True, [123, 321]]"
            ]
          },
          "execution_count": 16,
          "metadata": {},
          "output_type": "execute_result"
        }
      ],
      "source": [
        "lst"
      ]
    },
    {
      "cell_type": "code",
      "execution_count": 17,
      "metadata": {
        "colab": {
          "base_uri": "https://localhost:8080/"
        },
        "id": "P4h0qz_ANODN",
        "outputId": "c495e8fb-894e-41c3-fc95-467cdb6665c8"
      },
      "outputs": [
        {
          "data": {
            "text/plain": [
              "'three'"
            ]
          },
          "execution_count": 17,
          "metadata": {},
          "output_type": "execute_result"
        }
      ],
      "source": [
        "lst[1:4][1][1]   # Срез в списке (slice)"
      ]
    },
    {
      "cell_type": "code",
      "execution_count": 18,
      "metadata": {
        "colab": {
          "base_uri": "https://localhost:8080/"
        },
        "id": "0inBdASeNODN",
        "outputId": "14076f6f-daca-48fa-899d-a38187adad9a"
      },
      "outputs": [
        {
          "data": {
            "text/plain": [
              "321"
            ]
          },
          "execution_count": 18,
          "metadata": {},
          "output_type": "execute_result"
        }
      ],
      "source": [
        "lst[-1][-1]"
      ]
    },
    {
      "cell_type": "code",
      "execution_count": 54,
      "metadata": {},
      "outputs": [],
      "source": [
        "lst = [1,2,3,4,5,[1,2,3,4]]"
      ]
    },
    {
      "cell_type": "code",
      "execution_count": 55,
      "metadata": {
        "colab": {
          "base_uri": "https://localhost:8080/"
        },
        "id": "3gl7bBHLNODO",
        "outputId": "32046520-f612-460d-8ac4-16309242336b"
      },
      "outputs": [
        {
          "data": {
            "text/plain": [
              "[3, 4]"
            ]
          },
          "execution_count": 55,
          "metadata": {},
          "output_type": "execute_result"
        }
      ],
      "source": [
        "lst[2:4]"
      ]
    },
    {
      "cell_type": "code",
      "execution_count": 56,
      "metadata": {},
      "outputs": [
        {
          "data": {
            "text/plain": [
              "[2, 4, [1, 2, 3, 4]]"
            ]
          },
          "execution_count": 56,
          "metadata": {},
          "output_type": "execute_result"
        }
      ],
      "source": [
        "lst[1:6:2] # с 1 по 6 с шагом 2"
      ]
    },
    {
      "cell_type": "markdown",
      "metadata": {},
      "source": [
        "Можно использовать отрицательные индексы, тогда отсчет будет идти с конца, например, -1 - предпоследний, -2 - третий сконца и так далее"
      ]
    },
    {
      "cell_type": "code",
      "execution_count": 57,
      "metadata": {},
      "outputs": [
        {
          "data": {
            "text/plain": [
              "[1, 2, 3, 4, 5]"
            ]
          },
          "execution_count": 57,
          "metadata": {},
          "output_type": "execute_result"
        }
      ],
      "source": [
        "lst[:-1]   # с нулевого по предпоследний"
      ]
    },
    {
      "cell_type": "code",
      "execution_count": 58,
      "metadata": {},
      "outputs": [
        {
          "data": {
            "text/plain": [
              "[4, 5]"
            ]
          },
          "execution_count": 58,
          "metadata": {},
          "output_type": "execute_result"
        }
      ],
      "source": [
        "lst[-3:-1]   # с третьего с конца по предпоследний"
      ]
    },
    {
      "cell_type": "code",
      "execution_count": 22,
      "metadata": {
        "colab": {
          "base_uri": "https://localhost:8080/"
        },
        "id": "1LKLWMB0NODO",
        "outputId": "3097d453-d74c-4f48-9605-df09a0bbfebb"
      },
      "outputs": [
        {
          "data": {
            "text/plain": [
              "[1, 2, 3, 4, 5, [1, 2, 3, 4]]"
            ]
          },
          "execution_count": 22,
          "metadata": {},
          "output_type": "execute_result"
        }
      ],
      "source": [
        "lst"
      ]
    },
    {
      "cell_type": "code",
      "execution_count": 23,
      "metadata": {
        "colab": {
          "base_uri": "https://localhost:8080/"
        },
        "id": "-n2Ui43YNODO",
        "outputId": "145359d6-71e7-4cb5-8717-073e5ffe22ba"
      },
      "outputs": [
        {
          "data": {
            "text/plain": [
              "[1, 2, 3, 4, 5, [1, 2, 3, 4], 1, 2, 3, 4, 5, [1, 2, 3, 4]]"
            ]
          },
          "execution_count": 23,
          "metadata": {},
          "output_type": "execute_result"
        }
      ],
      "source": [
        "lst + lst # Списки можно складывать! Работает почти также как со строками"
      ]
    },
    {
      "cell_type": "code",
      "execution_count": 24,
      "metadata": {
        "colab": {
          "base_uri": "https://localhost:8080/"
        },
        "id": "Zr9wg65WNODO",
        "outputId": "5fa1540f-5f84-4668-f531-ce50169784b6"
      },
      "outputs": [
        {
          "data": {
            "text/plain": [
              "[1, 2, 3, 4, 5, [1, 2, 3, 4], 1, 2, 3, 4, 5, [1, 2, 3, 4]]"
            ]
          },
          "execution_count": 24,
          "metadata": {},
          "output_type": "execute_result"
        }
      ],
      "source": [
        "2*lst # Можно сделать то же самое операцией сложения"
      ]
    },
    {
      "cell_type": "code",
      "execution_count": 25,
      "metadata": {
        "colab": {
          "base_uri": "https://localhost:8080/"
        },
        "id": "3jrHeWpMNODO",
        "outputId": "78aeeb0a-8b23-4ae8-cbae-95918abb8b3a"
      },
      "outputs": [
        {
          "name": "stdout",
          "output_type": "stream",
          "text": [
            "[0, 111, 2, 3, 4]\n",
            "[0, 111, 2, 3, 4]\n"
          ]
        }
      ],
      "source": [
        "lst = [0, 1, 2, 3, 4]\n",
        "lst2 = lst\n",
        "lst2[1] = 111  # lst меняется\n",
        "print(lst2)\n",
        "print(lst)"
      ]
    },
    {
      "cell_type": "code",
      "execution_count": 26,
      "metadata": {},
      "outputs": [],
      "source": [
        "lst3 = [1,2,3]"
      ]
    },
    {
      "cell_type": "code",
      "execution_count": 27,
      "metadata": {
        "colab": {
          "base_uri": "https://localhost:8080/"
        },
        "id": "71xtOZhfNODO",
        "outputId": "d992802d-5438-400d-c93f-f2486c7da0cf"
      },
      "outputs": [
        {
          "data": {
            "text/plain": [
              "False"
            ]
          },
          "execution_count": 27,
          "metadata": {},
          "output_type": "execute_result"
        }
      ],
      "source": [
        "lst3 is lst"
      ]
    },
    {
      "cell_type": "code",
      "execution_count": 28,
      "metadata": {
        "colab": {
          "base_uri": "https://localhost:8080/"
        },
        "id": "r5AT2VLiNODP",
        "outputId": "2a48cf29-a5d6-4c4c-a808-301c4dbba65c"
      },
      "outputs": [
        {
          "name": "stdout",
          "output_type": "stream",
          "text": [
            "[0, 11, 2, 3, 4]\n",
            "[0, 1, 2, 3, 4]\n"
          ]
        }
      ],
      "source": [
        "lst = [0, 1, 2, 3, 4]\n",
        "lst3 = lst[:]\n",
        "lst3[1] = 11\n",
        "print(lst3)\n",
        "print(lst)"
      ]
    },
    {
      "cell_type": "code",
      "execution_count": 29,
      "metadata": {
        "colab": {
          "base_uri": "https://localhost:8080/"
        },
        "id": "sF9F_G3iNODP",
        "outputId": "e1051797-cb0b-4dff-8df0-d7b0969cee4c"
      },
      "outputs": [
        {
          "data": {
            "text/plain": [
              "True"
            ]
          },
          "execution_count": 29,
          "metadata": {},
          "output_type": "execute_result"
        }
      ],
      "source": [
        "[1,2,3] == [1,2,3]"
      ]
    },
    {
      "cell_type": "code",
      "execution_count": 30,
      "metadata": {},
      "outputs": [],
      "source": [
        "a = [1,2,3]\n",
        "b = [1,2,3]"
      ]
    },
    {
      "cell_type": "code",
      "execution_count": 31,
      "metadata": {},
      "outputs": [
        {
          "data": {
            "text/plain": [
              "2069902618752"
            ]
          },
          "execution_count": 31,
          "metadata": {},
          "output_type": "execute_result"
        }
      ],
      "source": [
        "id(a)"
      ]
    },
    {
      "cell_type": "code",
      "execution_count": 32,
      "metadata": {},
      "outputs": [
        {
          "data": {
            "text/plain": [
              "2069902597824"
            ]
          },
          "execution_count": 32,
          "metadata": {},
          "output_type": "execute_result"
        }
      ],
      "source": [
        "id(b)"
      ]
    },
    {
      "cell_type": "code",
      "execution_count": 33,
      "metadata": {
        "colab": {
          "base_uri": "https://localhost:8080/"
        },
        "id": "GkSOk-IrNODP",
        "outputId": "85a3d042-b2ae-4e8b-a610-3bbd5673868c"
      },
      "outputs": [
        {
          "data": {
            "text/plain": [
              "False"
            ]
          },
          "execution_count": 33,
          "metadata": {},
          "output_type": "execute_result"
        }
      ],
      "source": [
        "[1,2,3] is [1,2,3]"
      ]
    },
    {
      "cell_type": "code",
      "execution_count": 34,
      "metadata": {
        "colab": {
          "base_uri": "https://localhost:8080/"
        },
        "id": "sc0ee6rZNODP",
        "outputId": "0a934a66-5412-4a78-811a-fccb8370207d"
      },
      "outputs": [
        {
          "data": {
            "text/plain": [
              "True"
            ]
          },
          "execution_count": 34,
          "metadata": {},
          "output_type": "execute_result"
        }
      ],
      "source": [
        "2==2"
      ]
    },
    {
      "cell_type": "code",
      "execution_count": 35,
      "metadata": {
        "colab": {
          "base_uri": "https://localhost:8080/"
        },
        "id": "bG5dZvAqNODQ",
        "outputId": "9c9461a2-b9ce-4df9-9cbd-4d00f2d4d9be"
      },
      "outputs": [
        {
          "data": {
            "text/plain": [
              "True"
            ]
          },
          "execution_count": 35,
          "metadata": {},
          "output_type": "execute_result"
        }
      ],
      "source": [
        "a=2\n",
        "b=2\n",
        "a is b"
      ]
    },
    {
      "cell_type": "code",
      "execution_count": 36,
      "metadata": {
        "colab": {
          "base_uri": "https://localhost:8080/"
        },
        "id": "DhQXqlkfNODQ",
        "outputId": "11febb73-aec2-480a-f23e-5c2c68665a6c"
      },
      "outputs": [
        {
          "name": "stdout",
          "output_type": "stream",
          "text": [
            "['December', 'January', 'February', 'June', 'July', 'August']\n",
            "[['December', 'January', 'February'], ['June', 'July', 'August'], ['March', 'April', 'May']]\n"
          ]
        }
      ],
      "source": [
        "winter = ['December', 'January', 'February']\n",
        "spring = ['March', 'April', 'May']\n",
        "summer = ['June', 'July', 'August']\n",
        "autumn = ['September', 'October', 'November']\n",
        "print(winter + summer)            # Сложение списков (конкатенация)\n",
        "print([winter, summer, spring])   # Список списков"
      ]
    },
    {
      "cell_type": "code",
      "execution_count": 37,
      "metadata": {
        "colab": {
          "base_uri": "https://localhost:8080/"
        },
        "id": "Iu5OieOUNODQ",
        "outputId": "0e5cd209-52ac-4f0f-f6fb-262219a936b0"
      },
      "outputs": [
        {
          "name": "stdout",
          "output_type": "stream",
          "text": [
            "['December', 'January', 'February', 'March', 'April', 'May', 'June', 'July', 'August', 'September', 'October', 'November']\n"
          ]
        }
      ],
      "source": [
        "year = winter + spring + summer + autumn\n",
        "print(year)"
      ]
    },
    {
      "attachments": {},
      "cell_type": "markdown",
      "metadata": {},
      "source": [
        "В Python существуют методы которые можно применять к различным переменным. Методом называют всё что применяется к какой-либо переменной с точкой. Например : `.append()`"
      ]
    },
    {
      "cell_type": "code",
      "execution_count": 38,
      "metadata": {
        "colab": {
          "base_uri": "https://localhost:8080/"
        },
        "id": "DCTP1LTXNODR",
        "outputId": "d7018856-df92-410f-fdc8-18eab81697d9"
      },
      "outputs": [
        {
          "data": {
            "text/plain": [
              "['December',\n",
              " 'January',\n",
              " 'February',\n",
              " 'March',\n",
              " 'April',\n",
              " 'May',\n",
              " 'June',\n",
              " 'July',\n",
              " 'August',\n",
              " 'September',\n",
              " 'October',\n",
              " 'November',\n",
              " 'January']"
            ]
          },
          "execution_count": 38,
          "metadata": {},
          "output_type": "execute_result"
        }
      ],
      "source": [
        "new_year = year[:]\n",
        "new_year.append('January') # В данном случае .append() - это метод позволяющий добавить в конец списка какое-либо значение\n",
        "new_year"
      ]
    },
    {
      "cell_type": "code",
      "execution_count": 39,
      "metadata": {},
      "outputs": [
        {
          "data": {
            "text/plain": [
              "['December',\n",
              " 'January',\n",
              " 'February',\n",
              " 'March',\n",
              " 'April',\n",
              " 'May',\n",
              " 'June',\n",
              " 'July',\n",
              " 'August',\n",
              " 'September',\n",
              " 'October',\n",
              " 'November']"
            ]
          },
          "execution_count": 39,
          "metadata": {},
          "output_type": "execute_result"
        }
      ],
      "source": [
        "year"
      ]
    },
    {
      "cell_type": "code",
      "execution_count": 40,
      "metadata": {
        "colab": {
          "base_uri": "https://localhost:8080/"
        },
        "id": "XGD64Y4ZNODR",
        "outputId": "faa6488a-674b-4096-fe76-bebbf0b3a327"
      },
      "outputs": [
        {
          "data": {
            "text/plain": [
              "['December',\n",
              " 'January',\n",
              " 'February',\n",
              " 'March',\n",
              " 'April',\n",
              " 'May',\n",
              " 'June',\n",
              " 'July',\n",
              " 'August',\n",
              " 'September',\n",
              " 'October',\n",
              " 'November',\n",
              " 'February']"
            ]
          },
          "execution_count": 40,
          "metadata": {},
          "output_type": "execute_result"
        }
      ],
      "source": [
        "year = year + ['February']\n",
        "year"
      ]
    },
    {
      "cell_type": "code",
      "execution_count": 41,
      "metadata": {},
      "outputs": [
        {
          "data": {
            "text/plain": [
              "['December',\n",
              " 'January',\n",
              " 'February',\n",
              " 'March',\n",
              " 'April',\n",
              " 'May',\n",
              " 'June',\n",
              " 'July',\n",
              " 'August',\n",
              " 'September',\n",
              " 'October',\n",
              " 'November',\n",
              " 'February']"
            ]
          },
          "execution_count": 41,
          "metadata": {},
          "output_type": "execute_result"
        }
      ],
      "source": [
        "year"
      ]
    },
    {
      "cell_type": "code",
      "execution_count": 42,
      "metadata": {
        "colab": {
          "base_uri": "https://localhost:8080/"
        },
        "id": "tSWRq2tZNODR",
        "outputId": "f02deb22-f6a2-4941-fb78-8ca85688f059"
      },
      "outputs": [
        {
          "data": {
            "text/plain": [
              "True"
            ]
          },
          "execution_count": 42,
          "metadata": {},
          "output_type": "execute_result"
        }
      ],
      "source": [
        "'January' in year"
      ]
    },
    {
      "cell_type": "code",
      "execution_count": 43,
      "metadata": {},
      "outputs": [
        {
          "data": {
            "text/plain": [
              "['December', 'January', 'February']"
            ]
          },
          "execution_count": 43,
          "metadata": {},
          "output_type": "execute_result"
        }
      ],
      "source": [
        "winter"
      ]
    },
    {
      "cell_type": "code",
      "execution_count": 44,
      "metadata": {
        "colab": {
          "base_uri": "https://localhost:8080/"
        },
        "id": "bBkGbH-eNODR",
        "outputId": "a4741462-19c0-4258-bea0-654ff33cd9f7"
      },
      "outputs": [
        {
          "data": {
            "text/plain": [
              "False"
            ]
          },
          "execution_count": 44,
          "metadata": {},
          "output_type": "execute_result"
        }
      ],
      "source": [
        "'January' not in winter"
      ]
    },
    {
      "cell_type": "code",
      "execution_count": 45,
      "metadata": {
        "colab": {
          "base_uri": "https://localhost:8080/"
        },
        "id": "uKDyTZEoNODR",
        "outputId": "207c025b-027b-49fb-eb95-52b8d6e698e3"
      },
      "outputs": [
        {
          "name": "stdout",
          "output_type": "stream",
          "text": [
            "['December', 'January', 'February', 'March', 'April', 'May', 'June', 'July', 'August', 'September', 'October', 'November', 'February', 'NewMonth']\n",
            "['December', 'January', 'February', 'March', 'April', 'May', 'June', 'July', 'August', 'September', 'October', 'November', 'February']\n"
          ]
        }
      ],
      "source": [
        "year.append('NewMonth')\n",
        "print(year)\n",
        "year.pop()\n",
        "print(year)"
      ]
    },
    {
      "cell_type": "code",
      "execution_count": 46,
      "metadata": {
        "id": "rbX09wOVNODS"
      },
      "outputs": [],
      "source": [
        "lst = []\n",
        "item = 2\n",
        "indx = 0"
      ]
    },
    {
      "attachments": {},
      "cell_type": "markdown",
      "metadata": {},
      "source": [
        "Существую различные методы которые можно применить к списку"
      ]
    },
    {
      "cell_type": "code",
      "execution_count": 47,
      "metadata": {},
      "outputs": [
        {
          "data": {
            "text/plain": [
              "[]"
            ]
          },
          "execution_count": 47,
          "metadata": {},
          "output_type": "execute_result"
        }
      ],
      "source": [
        "lst"
      ]
    },
    {
      "cell_type": "code",
      "execution_count": 48,
      "metadata": {
        "id": "UY6DnsGmNODS"
      },
      "outputs": [],
      "source": [
        "lst.append(item)       # Вставить в конец\n",
        "lst.pop()              # Удалить последний и возвратить значение\n",
        "lst.insert(indx, item) # Вставка в указанную позицию\n",
        "lst.count(item)        # Найти количество вхождений значений в списке\n",
        "lst.index(item)        # Индекс первого вхождения значения в списке\n",
        "lst.remove(item)       # Удалить первое вхождение значения в список\n",
        "lst.sort()             # Сортировать список\n",
        "lst.reverse()          # Записать в обратном порядке"
      ]
    },
    {
      "cell_type": "code",
      "execution_count": 49,
      "metadata": {
        "colab": {
          "base_uri": "https://localhost:8080/"
        },
        "id": "2eHQqnY2NODS",
        "outputId": "c7ac29ca-c84f-49c5-eb81-d1953633765f"
      },
      "outputs": [
        {
          "name": "stdout",
          "output_type": "stream",
          "text": [
            "[1, 2, 3, 1, 111, 222]\n",
            "[2, 3, 1, 111, 222]\n"
          ]
        }
      ],
      "source": [
        "lst = [1,2,3,1,111,222]\n",
        "print(lst)\n",
        "lst.remove(1)\n",
        "print(lst)"
      ]
    },
    {
      "cell_type": "code",
      "execution_count": 50,
      "metadata": {
        "id": "a971aEc-NODS"
      },
      "outputs": [],
      "source": [
        "lst.remove(1)"
      ]
    },
    {
      "cell_type": "code",
      "execution_count": 51,
      "metadata": {
        "colab": {
          "base_uri": "https://localhost:8080/"
        },
        "id": "ZSPDeBqJNODS",
        "outputId": "114f9de1-6a9b-448e-be7b-8fe188b8929a"
      },
      "outputs": [
        {
          "data": {
            "text/plain": [
              "[2, 3, 111, 222]"
            ]
          },
          "execution_count": 51,
          "metadata": {},
          "output_type": "execute_result"
        }
      ],
      "source": [
        "lst"
      ]
    },
    {
      "attachments": {},
      "cell_type": "markdown",
      "metadata": {},
      "source": [
        "В Python сущетвуют встроенные функции, которые также можно применять к различным переменным, которые вы создали. Например: Вызов функции `min()` или `max()` осуществляется следующим образом:"
      ]
    },
    {
      "cell_type": "code",
      "execution_count": 52,
      "metadata": {
        "colab": {
          "base_uri": "https://localhost:8080/"
        },
        "id": "LIaZjCnINODT",
        "outputId": "bd2bd348-15c5-4f14-fe0e-3a1aa5b7efcf"
      },
      "outputs": [
        {
          "name": "stdout",
          "output_type": "stream",
          "text": [
            "-3 44\n"
          ]
        }
      ],
      "source": [
        "#Внутрь фукнции min или max мы посадили список.\n",
        "#Функция возвращает нам минимальное и максимальное число из списка соответственно\n",
        " \n",
        "lst = [1, 3, 44, 12, 21, 1, -3, 1, 44, 12, 35, 13]\n",
        "print(min(lst), max(lst)) \n",
        "lst.sort() # Метод .sort() возвращает вам отсортированный список по возрастанию\n",
        "# print(lst)"
      ]
    },
    {
      "cell_type": "markdown",
      "metadata": {},
      "source": [
        "Проверка наличия элемента\n",
        "Если определенный элемент не найден, то методы remove и index генерируют исключение. Чтобы избежать подобной ситуации, перед операцией с элементом можно проверять его наличие с помощью ключевого слова in:"
      ]
    },
    {
      "cell_type": "code",
      "execution_count": 61,
      "metadata": {},
      "outputs": [
        {
          "name": "stdout",
          "output_type": "stream",
          "text": [
            "['Tom', 'Bob', 'Sam']\n"
          ]
        }
      ],
      "source": [
        "people = [\"Tom\", \"Bob\", \"Alice\", \"Sam\"]\n",
        " \n",
        "if \"Alice\" in people:\n",
        "    people.remove(\"Alice\")\n",
        "print(people)       # [\"Tom\", \"Bob\", \"Sam\"]"
      ]
    },
    {
      "cell_type": "markdown",
      "metadata": {},
      "source": [
        "Python также поддерживает еще один способ удаления элементов списка - с помощью оператора del. В качестве параметра этому оператору передается удаляемый элемент или набор элементов"
      ]
    },
    {
      "cell_type": "code",
      "execution_count": 62,
      "metadata": {},
      "outputs": [
        {
          "name": "stdout",
          "output_type": "stream",
          "text": [
            "['Tom', 'Alice', 'Sam', 'Bill', 'Kate', 'Mike']\n",
            "['Bill', 'Kate', 'Mike']\n",
            "['Bill']\n"
          ]
        }
      ],
      "source": [
        "people = [\"Tom\", \"Bob\", \"Alice\", \"Sam\", \"Bill\", \"Kate\", \"Mike\"]\n",
        " \n",
        "del people[1]   # удаляем второй элемент\n",
        "print(people)   # [\"Tom\", \"Alice\", \"Sam\", \"Bill\", \"Kate\", \"Mike\"]\n",
        "del people[:3]   # удаляем  по четвертый элемент не включая\n",
        "print(people)   # [\"Bill\", \"Kate\", \"Mike\"]\n",
        "del people[1:]   # удаляем  со второго элемента\n",
        "print(people)   # [\"Bill\"]"
      ]
    }
  ],
  "metadata": {
    "colab": {
      "include_colab_link": true,
      "provenance": []
    },
    "kernelspec": {
      "display_name": "Python 3",
      "language": "python",
      "name": "python3"
    },
    "language_info": {
      "codemirror_mode": {
        "name": "ipython",
        "version": 3
      },
      "file_extension": ".py",
      "mimetype": "text/x-python",
      "name": "python",
      "nbconvert_exporter": "python",
      "pygments_lexer": "ipython3",
      "version": "3.12.6"
    }
  },
  "nbformat": 4,
  "nbformat_minor": 0
}
