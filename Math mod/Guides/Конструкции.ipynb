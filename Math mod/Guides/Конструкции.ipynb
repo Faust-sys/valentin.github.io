{
  "cells": [
    {
      "attachments": {},
      "cell_type": "markdown",
      "metadata": {
        "id": "ISDOdsDzNODc"
      },
      "source": [
        "# Управляющие конструкции"
      ]
    },
    {
      "attachments": {},
      "cell_type": "markdown",
      "metadata": {
        "id": "WQaQLzgKNODc"
      },
      "source": [
        "## Условие `if`"
      ]
    },
    {
      "cell_type": "code",
      "execution_count": null,
      "metadata": {
        "colab": {
          "base_uri": "https://localhost:8080/"
        },
        "id": "vxMqVovNNODc",
        "outputId": "15f8f525-1f42-44ec-c588-a666d397eb34"
      },
      "outputs": [],
      "source": [
        "brother_age = 19\n",
        "sister_age = 18\n",
        "if brother_age > sister_age:\n",
        "    print(brother_age) # Условие if контролирует: Можно ли зайти внутрь в конструкцию после if или нет \n",
        "print('Все!')"
      ]
    },
    {
      "cell_type": "code",
      "execution_count": null,
      "metadata": {
        "colab": {
          "base_uri": "https://localhost:8080/"
        },
        "id": "Jcr1AyypNODc",
        "outputId": "56f1dc6a-e9c3-452f-871f-708b199cc960"
      },
      "outputs": [],
      "source": [
        "brother_age = 20\n",
        "sister_age = 13\n",
        "if brother_age > sister_age:\n",
        "    print('Брат старше сестры')\n",
        "else:\n",
        "    print('Брат не старше сестры')"
      ]
    },
    {
      "cell_type": "code",
      "execution_count": null,
      "metadata": {
        "colab": {
          "base_uri": "https://localhost:8080/"
        },
        "id": "8PBQ6NQtNODc",
        "outputId": "237e9206-b942-42f7-ed99-bf44315864b4"
      },
      "outputs": [],
      "source": [
        "brother_age = 10\n",
        "sister_age = 13\n",
        "if brother_age > sister_age:\n",
        "    print('Брат старше сестры')\n",
        "else:\n",
        "    if brother_age < sister_age: \n",
        "        print('Брат младше сестры')\n",
        "    else:\n",
        "        print('Брат и сестра одного возраста')"
      ]
    },
    {
      "attachments": {},
      "cell_type": "markdown",
      "metadata": {},
      "source": [
        "Конструкция `elif` - это комбинация двух других конструкций `if` и `else`"
      ]
    },
    {
      "cell_type": "code",
      "execution_count": null,
      "metadata": {
        "colab": {
          "base_uri": "https://localhost:8080/"
        },
        "id": "jaOdeAHUNODc",
        "outputId": "06001451-3768-4a41-8615-2099e64ac1d7"
      },
      "outputs": [],
      "source": [
        "brother_age = 20\n",
        "sister_age = 20\n",
        "if brother_age > sister_age:\n",
        "    print('Брат старше сестры')\n",
        "elif brother_age < sister_age: # elif может быть много\n",
        "    print('Брат младше сестры')\n",
        "#elif условие:\n",
        "#    команды\n",
        "elif brother_age == sister_age:\n",
        "    print('Брат и сестра одного возраста')"
      ]
    },
    {
      "attachments": {},
      "cell_type": "markdown",
      "metadata": {
        "id": "KONlQZ1DNODc"
      },
      "source": [
        "## Цикл `while`"
      ]
    },
    {
      "cell_type": "code",
      "execution_count": 30,
      "metadata": {},
      "outputs": [],
      "source": [
        "a = 16\n",
        "b = 4\n",
        "tmp = a % b"
      ]
    },
    {
      "cell_type": "code",
      "execution_count": null,
      "metadata": {},
      "outputs": [],
      "source": [
        "print(tmp)"
      ]
    },
    {
      "cell_type": "code",
      "execution_count": null,
      "metadata": {
        "colab": {
          "base_uri": "https://localhost:8080/"
        },
        "id": "Gifkz6tDNODc",
        "outputId": "d0897ddf-3216-4285-e519-bdcde9112912"
      },
      "outputs": [],
      "source": [
        "a = 16\n",
        "b = 4\n",
        "while b != 0:\n",
        "    tmp = a % b\n",
        "    a = b\n",
        "    b = tmp\n",
        "\n",
        "print(a)"
      ]
    },
    {
      "cell_type": "code",
      "execution_count": null,
      "metadata": {
        "colab": {
          "base_uri": "https://localhost:8080/"
        },
        "id": "vM7ZtCL3NODd",
        "outputId": "7899b43e-723a-4d4a-9f95-d1c8dca5e076"
      },
      "outputs": [],
      "source": [
        "eps = 1\n",
        "while 1 + eps > 1:\n",
        "    eps = eps - 0.1\n",
        "\n",
        "print(eps)"
      ]
    },
    {
      "attachments": {},
      "cell_type": "markdown",
      "metadata": {
        "collapsed": true,
        "id": "pX8cfZhZNODd"
      },
      "source": [
        "Имеются `continue`, `break`\n"
      ]
    },
    {
      "cell_type": "code",
      "execution_count": null,
      "metadata": {},
      "outputs": [],
      "source": [
        "eps = 1\n",
        "while 1 + eps > 1:\n",
        "    eps = eps - 0.1\n",
        "    break\n",
        "\n",
        "print(eps)"
      ]
    },
    {
      "cell_type": "code",
      "execution_count": null,
      "metadata": {},
      "outputs": [],
      "source": [
        "eps = 1\n",
        "i = 0\n",
        "while 1 + eps > 1:\n",
        "    eps = eps - 0.1\n",
        "    print('Шаг номер: ', i)\n",
        "    i = i + 1\n",
        "    \n",
        "\n",
        "print(eps)"
      ]
    },
    {
      "attachments": {},
      "cell_type": "markdown",
      "metadata": {
        "id": "hMNE_eM4NODd"
      },
      "source": [
        "# Цикл `for`"
      ]
    },
    {
      "cell_type": "code",
      "execution_count": null,
      "metadata": {
        "colab": {
          "base_uri": "https://localhost:8080/"
        },
        "id": "RGsQPdbWNODe",
        "outputId": "a2bed177-253c-438e-97ba-cb09bacb8e90"
      },
      "outputs": [],
      "source": [
        "for k in range(1, 10): # функция range возвращает последовательность чисел от одного числа до другого\n",
        "    print(k)"
      ]
    },
    {
      "cell_type": "code",
      "execution_count": null,
      "metadata": {
        "colab": {
          "base_uri": "https://localhost:8080/"
        },
        "id": "f39Li5a5NODe",
        "outputId": "b7f06d5c-e214-4112-8151-9894c2d63e7e"
      },
      "outputs": [],
      "source": [
        "for number_name in [1, 2, 3, 4]:\n",
        "    # continue\n",
        "    print(number_name)"
      ]
    },
    {
      "cell_type": "code",
      "execution_count": null,
      "metadata": {
        "colab": {
          "base_uri": "https://localhost:8080/"
        },
        "id": "6r-B-1qMNODe",
        "outputId": "f1815a5e-becf-490f-9d6d-a2f57adccaaf"
      },
      "outputs": [],
      "source": [
        "for i in \"letters\":\n",
        "    print(i)"
      ]
    },
    {
      "cell_type": "code",
      "execution_count": null,
      "metadata": {
        "colab": {
          "base_uri": "https://localhost:8080/"
        },
        "id": "PJuM8MoINODe",
        "outputId": "3fd6f422-3747-472f-f2f0-4e8dae69b684"
      },
      "outputs": [],
      "source": [
        "for item in [1, 2, 'three', 'four', [5, 6, 7]]:\n",
        "    print(item)"
      ]
    },
    {
      "cell_type": "code",
      "execution_count": 41,
      "metadata": {},
      "outputs": [],
      "source": [
        "### Вспомним как обращаться к словарю\n",
        "person = {'surname': 'Gauss', 'name': 'Karl', (1, 2): 3}"
      ]
    },
    {
      "cell_type": "code",
      "execution_count": null,
      "metadata": {},
      "outputs": [],
      "source": [
        "person['surname']"
      ]
    },
    {
      "cell_type": "code",
      "execution_count": null,
      "metadata": {
        "colab": {
          "base_uri": "https://localhost:8080/"
        },
        "id": "nIywt4UpNODe",
        "outputId": "ed834bf7-c5ac-453a-a188-701b4348467c"
      },
      "outputs": [],
      "source": [
        "for key in person:\n",
        "    # print(key)\n",
        "    print(person[key])"
      ]
    },
    {
      "attachments": {},
      "cell_type": "markdown",
      "metadata": {
        "id": "YHK5LpsyNODh"
      },
      "source": [
        "# Функции"
      ]
    },
    {
      "cell_type": "code",
      "execution_count": 3,
      "metadata": {
        "colab": {
          "base_uri": "https://localhost:8080/"
        },
        "id": "8gh-kx7jNODh",
        "outputId": "518924e0-e9ce-49a3-b438-5baf394a6f56"
      },
      "outputs": [],
      "source": [
        "# Можно создавать свои функции, которые используются для сокращения кода\n",
        "def some_function(a, b):\n",
        "    a = abs(a)\n",
        "    b = abs(b)\n",
        "    for i in range(1,6,2):\n",
        "        a = a + i \n",
        "        b = b + i \n",
        "    return a, b # Функция  должна возвращать то, что внутри посчитала иначе в результате будет None"
      ]
    },
    {
      "cell_type": "code",
      "execution_count": null,
      "metadata": {},
      "outputs": [],
      "source": [
        "x, y = some_function(-5,10)\n",
        "print(x)\n",
        "print(y)"
      ]
    },
    {
      "cell_type": "code",
      "execution_count": 46,
      "metadata": {
        "id": "QDSCeoTMNODh"
      },
      "outputs": [],
      "source": [
        "def fibo(B = 50):\n",
        "    # Обычный комментарий\n",
        "    '''\n",
        "    Print Fibonacci numbers less than or equal to B\n",
        "    '''\n",
        "    a, b = 0, 1\n",
        "    while b <= B:\n",
        "        print(b)\n",
        "        a, b = b, a + b\n",
        "        "
      ]
    },
    {
      "cell_type": "code",
      "execution_count": null,
      "metadata": {},
      "outputs": [],
      "source": [
        "fibo()"
      ]
    },
    {
      "cell_type": "code",
      "execution_count": null,
      "metadata": {
        "colab": {
          "base_uri": "https://localhost:8080/"
        },
        "id": "mtX9cyEtNODh",
        "outputId": "8a051dd7-4e30-4b57-a047-7bc3434aeeb6"
      },
      "outputs": [],
      "source": [
        "fibo(1000)"
      ]
    },
    {
      "attachments": {},
      "cell_type": "markdown",
      "metadata": {
        "id": "di5WkgalNODj"
      },
      "source": [
        "### Видимость объектов"
      ]
    },
    {
      "attachments": {},
      "cell_type": "markdown",
      "metadata": {
        "id": "6zHTgju4NODj"
      },
      "source": [
        "Имена из вызывающего контекста использовать можно, но присваивать им другие объекты нельзя.\n",
        "Объекты менять можно."
      ]
    },
    {
      "cell_type": "code",
      "execution_count": 49,
      "metadata": {},
      "outputs": [],
      "source": [
        "def fun():\n",
        "    a = 3\n",
        "    print(a)"
      ]
    },
    {
      "cell_type": "code",
      "execution_count": null,
      "metadata": {
        "colab": {
          "base_uri": "https://localhost:8080/"
        },
        "id": "cj2mNma-NODj",
        "outputId": "3f7b393a-5162-41be-9181-1cc9ac138982"
      },
      "outputs": [],
      "source": [
        "a = 123\n",
        "fun()\n",
        "print(a)"
      ]
    },
    {
      "cell_type": "code",
      "execution_count": null,
      "metadata": {
        "colab": {
          "base_uri": "https://localhost:8080/"
        },
        "id": "4IS3tVhZNODk",
        "outputId": "728abf2e-0957-40f8-d6be-817d0e4a18a5"
      },
      "outputs": [],
      "source": [
        "def fun():\n",
        "    print(a + 1)  # Так можно\n",
        "    a = 3  # Так нельзя\n",
        "\n",
        "    \n",
        "a = 123\n",
        "fun()    \n",
        "print(a)"
      ]
    },
    {
      "cell_type": "code",
      "execution_count": null,
      "metadata": {
        "colab": {
          "base_uri": "https://localhost:8080/"
        },
        "id": "yiO7Ehs7NODk",
        "outputId": "bba5955e-3fc3-4781-edfa-d8f13da2ff17"
      },
      "outputs": [],
      "source": [
        "def fun():\n",
        "    lst[0] = 'NewValue0'     # Можно!\n",
        "    lst.append('NewValue3')\n",
        "\n",
        "lst = [0, 1, 2]\n",
        "fun()    \n",
        "print(lst)"
      ]
    },
    {
      "attachments": {},
      "cell_type": "markdown",
      "metadata": {
        "id": "XkokjiVRNODk"
      },
      "source": [
        "# Работа с модулями"
      ]
    },
    {
      "attachments": {},
      "cell_type": "markdown",
      "metadata": {
        "id": "9YhUFdMJNODk"
      },
      "source": [
        "```python\n",
        "import модуль\n",
        "from модуль import что-то конкретное\n",
        "from модуль import *\n",
        "import модуль as псевдоним\n",
        "```"
      ]
    },
    {
      "cell_type": "code",
      "execution_count": null,
      "metadata": {
        "colab": {
          "base_uri": "https://localhost:8080/"
        },
        "id": "N3PtkbA2NODk",
        "outputId": "1254f280-a71e-49b4-de52-fbd6fc9d61ca"
      },
      "outputs": [],
      "source": [
        "import math\n",
        "print(math.pi, math.exp(1))"
      ]
    },
    {
      "cell_type": "code",
      "execution_count": null,
      "metadata": {
        "colab": {
          "base_uri": "https://localhost:8080/"
        },
        "id": "xloCxRQFNODk",
        "outputId": "21efec3b-55a7-473b-cb88-08f0d6132d6b"
      },
      "outputs": [],
      "source": [
        "print(math.sqrt(2))"
      ]
    },
    {
      "cell_type": "code",
      "execution_count": null,
      "metadata": {
        "colab": {
          "base_uri": "https://localhost:8080/"
        },
        "id": "gyQBXpyWNODl",
        "outputId": "5b4a80eb-016c-4f82-e3e8-214d833b4a2d"
      },
      "outputs": [],
      "source": [
        "2**.5"
      ]
    },
    {
      "cell_type": "code",
      "execution_count": null,
      "metadata": {
        "colab": {
          "base_uri": "https://localhost:8080/"
        },
        "id": "hsJ_g9GqNODl",
        "outputId": "bba7e007-1305-4f46-bf11-bb35d443eecd"
      },
      "outputs": [],
      "source": [
        "from math import pi, exp\n",
        "print(pi, exp(1))"
      ]
    },
    {
      "cell_type": "code",
      "execution_count": null,
      "metadata": {
        "colab": {
          "base_uri": "https://localhost:8080/"
        },
        "id": "-UwPaN-ENODl",
        "outputId": "6997d6bf-a5a6-45da-b7da-de140eddc5f8"
      },
      "outputs": [],
      "source": [
        "from math import *\n",
        "print(pi, exp(1), sin(pi), sqrt(2))"
      ]
    },
    {
      "attachments": {},
      "cell_type": "markdown",
      "metadata": {
        "id": "4o0OAGumNODl"
      },
      "source": [
        "Любой файл с кодом на питоне - это уже модуль.\n",
        "```python\n",
        "import модуль\n",
        "```\n",
        "отправляет его на выполнение.\n",
        "\n",
        "Несколько модулей можно объединять в пакеты."
      ]
    }
  ],
  "metadata": {
    "colab": {
      "include_colab_link": true,
      "provenance": []
    },
    "kernelspec": {
      "display_name": "Python 3",
      "language": "python",
      "name": "python3"
    },
    "language_info": {
      "codemirror_mode": {
        "name": "ipython",
        "version": 3
      },
      "file_extension": ".py",
      "mimetype": "text/x-python",
      "name": "python",
      "nbconvert_exporter": "python",
      "pygments_lexer": "ipython3",
      "version": "3.12.6"
    }
  },
  "nbformat": 4,
  "nbformat_minor": 0
}
