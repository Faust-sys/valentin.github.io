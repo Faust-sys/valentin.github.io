{
  "cells": [
    {
      "attachments": {},
      "cell_type": "markdown",
      "metadata": {
        "id": "z-d66XsnNODU"
      },
      "source": [
        "# Кортежи"
      ]
    },
    {
      "attachments": {},
      "cell_type": "markdown",
      "metadata": {
        "id": "WX9YhNpwNODU"
      },
      "source": [
        "_Кортеж_ (tuple) - неизменяемый (immutable) контейнер (в отличие от списка). В остальном они ведут себя так же, как списки."
      ]
    },
    {
      "cell_type": "markdown",
      "metadata": {},
      "source": [
        "Для создания кортежа используются круглые скобки, в которые помещаются его значения, разделенные запятыми:"
      ]
    },
    {
      "cell_type": "code",
      "execution_count": null,
      "metadata": {
        "colab": {
          "base_uri": "https://localhost:8080/"
        },
        "id": "AhrrjxHONODU",
        "outputId": "c001f919-bc62-4763-f9e0-023788db033a"
      },
      "outputs": [],
      "source": [
        "x = (1, 2, 3, 'four') \n",
        "print(x)\n",
        "print(type(x))"
      ]
    },
    {
      "cell_type": "markdown",
      "metadata": {},
      "source": [
        "Также для определения кортежа мы можем просто перечислить значения через запятую без применения скобок:"
      ]
    },
    {
      "cell_type": "code",
      "execution_count": null,
      "metadata": {
        "colab": {
          "base_uri": "https://localhost:8080/"
        },
        "id": "0Bl7NdxsNODU",
        "outputId": "98b22b52-2c2b-48ac-e636-a6073f768722"
      },
      "outputs": [],
      "source": [
        "x = 1, 2, 3, 'four'\n",
        "x"
      ]
    },
    {
      "cell_type": "code",
      "execution_count": null,
      "metadata": {
        "colab": {
          "base_uri": "https://localhost:8080/"
        },
        "id": "o6oSbLnSNODU",
        "outputId": "6dba0d28-42cf-4b68-b754-bab1c4dcbcab"
      },
      "outputs": [],
      "source": [
        "()"
      ]
    },
    {
      "cell_type": "code",
      "execution_count": null,
      "metadata": {
        "colab": {
          "base_uri": "https://localhost:8080/"
        },
        "id": "S7oXbNitNODV",
        "outputId": "f8f3e2e6-6f36-4e78-c61e-48e7752fba91"
      },
      "outputs": [],
      "source": [
        "type(())"
      ]
    },
    {
      "cell_type": "markdown",
      "metadata": {},
      "source": [
        "Если вдруг кортеж состоит из одного элемента, то после единственного элемента кортежа необходимо поставить запятую:"
      ]
    },
    {
      "cell_type": "code",
      "execution_count": null,
      "metadata": {
        "colab": {
          "base_uri": "https://localhost:8080/"
        },
        "id": "kq05qiC7NODV",
        "outputId": "f226b252-a985-44bb-e0cc-5586fe71b793"
      },
      "outputs": [],
      "source": [
        "a=(1)\n",
        "type(a)"
      ]
    },
    {
      "cell_type": "code",
      "execution_count": null,
      "metadata": {
        "colab": {
          "base_uri": "https://localhost:8080/"
        },
        "id": "Jq2Y4ES1NODV",
        "outputId": "7b0f5606-b49f-435f-fc68-0d9698470171"
      },
      "outputs": [],
      "source": [
        "type(1)"
      ]
    },
    {
      "cell_type": "code",
      "execution_count": null,
      "metadata": {
        "colab": {
          "base_uri": "https://localhost:8080/"
        },
        "id": "-e73E7k2NODV",
        "outputId": "a442e4b2-71e0-466a-8993-411076ac0d57"
      },
      "outputs": [],
      "source": [
        "type((1,))"
      ]
    },
    {
      "cell_type": "markdown",
      "metadata": {},
      "source": [
        "Обращение к элементам в кортеже происходит также, как и в списке, по индексу. Индексация начинается также с нуля при получении элементов с начала списка и с -1 при получении элементов с конца списка:"
      ]
    },
    {
      "cell_type": "code",
      "execution_count": null,
      "metadata": {},
      "outputs": [],
      "source": [
        "tom = (\"Tom\", 37, \"Google\", \"software developer\")\n",
        "print(tom[0])       # Tom\n",
        "print(tom[1])       # 37\n",
        "print(tom[-1])      # software developer"
      ]
    },
    {
      "cell_type": "markdown",
      "metadata": {},
      "source": [
        "Но так как кортеж - неизменяемый тип (immutable), то мы не сможем изменить его элементы. То есть следующая запись работать не будет:"
      ]
    },
    {
      "cell_type": "code",
      "execution_count": null,
      "metadata": {},
      "outputs": [],
      "source": [
        "tom[1] = \"Tim\""
      ]
    },
    {
      "cell_type": "markdown",
      "metadata": {},
      "source": [
        "При необходимости мы можем разложить кортеж на отдельные переменные:"
      ]
    },
    {
      "cell_type": "code",
      "execution_count": null,
      "metadata": {},
      "outputs": [],
      "source": [
        "name, age, company, position = (\"Tom\", 37, \"Google\", \"software developer\")\n",
        "print(name)         # Tom\n",
        "print(age)          # 37\n",
        "print(position)     # software developer\n",
        "print(company)     # Google"
      ]
    },
    {
      "cell_type": "markdown",
      "metadata": {},
      "source": [
        "Как и в списках, можно получить часть кортежа в виде другого кортежа"
      ]
    },
    {
      "cell_type": "code",
      "execution_count": null,
      "metadata": {},
      "outputs": [],
      "source": [
        "tom = (\"Tom\", 37, \"Google\", \"software developer\")\n",
        " \n",
        "# получем подкортеж с 1 по 3 элемента (не включая)\n",
        "print(tom[1:3])     # (37, \"Google\")\n",
        " \n",
        "# получем подкортеж с 0 по 3 элемента (не включая)\n",
        "print(tom[:3])     # (\"Tom\", 37, \"Google\")\n",
        " \n",
        "# получем подкортеж с 1 по послдений элемент\n",
        "print(tom[1:])     # (37, \"Google\", \"software developer\")"
      ]
    },
    {
      "cell_type": "markdown",
      "metadata": {},
      "source": [
        "Для перебора кортежа можно использовать стандартные циклы for и while. С помощью цикла for:"
      ]
    },
    {
      "cell_type": "code",
      "execution_count": null,
      "metadata": {},
      "outputs": [],
      "source": [
        "tom = (\"Tom\", 22, \"Google\")\n",
        "for item in tom:\n",
        "    print(item)"
      ]
    },
    {
      "cell_type": "markdown",
      "metadata": {},
      "source": [
        "Работа с элементами кортежа"
      ]
    },
    {
      "cell_type": "code",
      "execution_count": null,
      "metadata": {},
      "outputs": [],
      "source": [
        "y1 = (1, 3, 5, 7)\n",
        "y2 = (2, 4, 6, 8)\n",
        "y1 + y2                # Конкатенация"
      ]
    },
    {
      "cell_type": "code",
      "execution_count": null,
      "metadata": {},
      "outputs": [],
      "source": [
        "a = 2\n",
        "b = 10\n",
        "\n",
        "b = a\n",
        "b"
      ]
    },
    {
      "cell_type": "code",
      "execution_count": 70,
      "metadata": {},
      "outputs": [],
      "source": [
        "a, b, c = (1, 2, 3)"
      ]
    },
    {
      "cell_type": "code",
      "execution_count": 71,
      "metadata": {},
      "outputs": [],
      "source": [
        "a, b = b, a # Эта и последующая запись одинаковы"
      ]
    },
    {
      "cell_type": "code",
      "execution_count": null,
      "metadata": {},
      "outputs": [],
      "source": [
        "b"
      ]
    },
    {
      "cell_type": "code",
      "execution_count": null,
      "metadata": {},
      "outputs": [],
      "source": [
        "(a, b) = (b, a) # Эта и предыдущая запись одинаковы\n",
        "b"
      ]
    }
  ],
  "metadata": {
    "colab": {
      "include_colab_link": true,
      "provenance": []
    },
    "kernelspec": {
      "display_name": "Python 3",
      "language": "python",
      "name": "python3"
    },
    "language_info": {
      "codemirror_mode": {
        "name": "ipython",
        "version": 3
      },
      "file_extension": ".py",
      "mimetype": "text/x-python",
      "name": "python",
      "nbconvert_exporter": "python",
      "pygments_lexer": "ipython3",
      "version": "3.12.6"
    }
  },
  "nbformat": 4,
  "nbformat_minor": 0
}
