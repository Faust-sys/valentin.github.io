{
  "cells": [
    {
      "attachments": {},
      "cell_type": "markdown",
      "metadata": {
        "id": "_gg_qmvqNODX"
      },
      "source": [
        "# Словари\n",
        "_Словарь_ ( _ассоциативный массив_ ) - изменяемый контейнер. Обращение к элементу словаря - по имени (ключу) элемента. В качестве ключей могут выступать любые неизменяемые типы, в частности, строки, числа (int, long, float), кортежи."
      ]
    },
    {
      "cell_type": "code",
      "execution_count": 1,
      "metadata": {
        "colab": {
          "base_uri": "https://localhost:8080/"
        },
        "id": "K-bycpNzNODX",
        "outputId": "9371e8c3-3b95-4e57-8062-e31ba271a841"
      },
      "outputs": [
        {
          "name": "stdout",
          "output_type": "stream",
          "text": [
            "{'FirstName': 'Isac', 'Яблоко': 100}\n"
          ]
        }
      ],
      "source": [
        "person = {'FirstName':'Isac','Яблоко':100}\n",
        "print(person)"
      ]
    },
    {
      "cell_type": "code",
      "execution_count": 2,
      "metadata": {},
      "outputs": [
        {
          "data": {
            "text/plain": [
              "100"
            ]
          },
          "execution_count": 2,
          "metadata": {},
          "output_type": "execute_result"
        }
      ],
      "source": [
        "person[\"Яблоко\"]"
      ]
    },
    {
      "cell_type": "code",
      "execution_count": 3,
      "metadata": {
        "id": "8GU7bt5ENODX"
      },
      "outputs": [],
      "source": [
        "person = {'FirstName': 'Isac', 'LastName': 'Newton', (1, 2): 5, 'Age': 22, 2:123, 2.3:2.3}"
      ]
    },
    {
      "cell_type": "code",
      "execution_count": 4,
      "metadata": {
        "colab": {
          "base_uri": "https://localhost:8080/"
        },
        "id": "wmNcd4sYNODX",
        "outputId": "b5aca5c8-6cfa-4699-e79d-88257c276405"
      },
      "outputs": [
        {
          "data": {
            "text/plain": [
              "dict"
            ]
          },
          "execution_count": 4,
          "metadata": {},
          "output_type": "execute_result"
        }
      ],
      "source": [
        "type(person)"
      ]
    },
    {
      "cell_type": "markdown",
      "metadata": {},
      "source": [
        "Мы можем также вообще определить пустой словарь без элементов:"
      ]
    },
    {
      "cell_type": "code",
      "execution_count": null,
      "metadata": {},
      "outputs": [],
      "source": [
        "\t\n",
        "objects = {}\n",
        "\n",
        "objects = dict()"
      ]
    },
    {
      "cell_type": "code",
      "execution_count": 5,
      "metadata": {
        "colab": {
          "base_uri": "https://localhost:8080/"
        },
        "id": "e8gwlzsWNODY",
        "outputId": "3ee87318-ed0b-486c-d5e2-15079a3c5d3e"
      },
      "outputs": [
        {
          "name": "stdout",
          "output_type": "stream",
          "text": [
            "{'FirstName': 'Isaaaaaaaaac', 'LastName': 'Newton', (1, 2): 5, 'Age': 50, 2: 123, 2.3: 2.3, 'Profession': 'Scientist', -33.5: 65535, (1, 3): [1, 2, 4], True: [1, 2, 4]}\n"
          ]
        }
      ],
      "source": [
        "person['FirstName'] = 'Isaaaaaaaaac'\n",
        "person['Profession'] = 'Scientist'\n",
        "person['Age'] = 50\n",
        "person[-33.5] = 0xFFFF\n",
        "person[(1,3)] = [1, 2, 4,]\n",
        "person[True] = [1, 2, 4,]\n",
        "print(person)"
      ]
    },
    {
      "cell_type": "code",
      "execution_count": 6,
      "metadata": {
        "colab": {
          "base_uri": "https://localhost:8080/"
        },
        "id": "Dxzt9L2XNODY",
        "outputId": "6f70f082-51e3-411f-8438-2d1bb7b66ca2"
      },
      "outputs": [
        {
          "data": {
            "text/plain": [
              "{'FirstName': 'Isaaaaaaaaac',\n",
              " 'LastName': 'Newton',\n",
              " (1, 2): '123',\n",
              " 'Age': 50,\n",
              " 2: 123,\n",
              " 2.3: 2.3,\n",
              " 'Profession': 'Scientist',\n",
              " -33.5: 65535,\n",
              " (1, 3): [1, 2, 4],\n",
              " True: [1, 2, 4]}"
            ]
          },
          "execution_count": 6,
          "metadata": {},
          "output_type": "execute_result"
        }
      ],
      "source": [
        "person[(1, 2)] = '123' # В качестве ключей используем любые неизменяемые типы\n",
        "person"
      ]
    },
    {
      "cell_type": "code",
      "execution_count": 7,
      "metadata": {
        "colab": {
          "base_uri": "https://localhost:8080/"
        },
        "id": "QfhDq3w4NODY",
        "outputId": "d50b76fc-8bb6-4b5b-f357-e4416a8ac70d"
      },
      "outputs": [
        {
          "name": "stdout",
          "output_type": "stream",
          "text": [
            "{(1, 3): 5.555, (4, 8): 6.666}\n"
          ]
        }
      ],
      "source": [
        "sparse = {(1, 3): 5.555, (4, 8): 6.666}\n",
        "print(sparse)"
      ]
    },
    {
      "cell_type": "code",
      "execution_count": 8,
      "metadata": {
        "colab": {
          "base_uri": "https://localhost:8080/"
        },
        "id": "S9UHYvAwNODY",
        "outputId": "6e19291f-b4d0-4bd4-81b8-6385382f0fe1"
      },
      "outputs": [
        {
          "data": {
            "text/plain": [
              "False"
            ]
          },
          "execution_count": 8,
          "metadata": {},
          "output_type": "execute_result"
        }
      ],
      "source": [
        "(1, 4) in sparse"
      ]
    },
    {
      "cell_type": "code",
      "execution_count": 9,
      "metadata": {
        "colab": {
          "base_uri": "https://localhost:8080/"
        },
        "id": "UqSLlVgENODY",
        "outputId": "0475aa5d-2747-4cb9-c0da-217d229f4a08"
      },
      "outputs": [
        {
          "data": {
            "text/plain": [
              "True"
            ]
          },
          "execution_count": 9,
          "metadata": {},
          "output_type": "execute_result"
        }
      ],
      "source": [
        "(1, 3) in sparse"
      ]
    },
    {
      "cell_type": "code",
      "execution_count": 10,
      "metadata": {},
      "outputs": [
        {
          "data": {
            "text/plain": [
              "{'FirstName': 'Isaaaaaaaaac',\n",
              " 'LastName': 'Newton',\n",
              " (1, 2): '123',\n",
              " 'Age': 50,\n",
              " 2: 123,\n",
              " 2.3: 2.3,\n",
              " 'Profession': 'Scientist',\n",
              " -33.5: 65535,\n",
              " (1, 3): [1, 2, 4],\n",
              " True: [1, 2, 4]}"
            ]
          },
          "execution_count": 10,
          "metadata": {},
          "output_type": "execute_result"
        }
      ],
      "source": [
        "person"
      ]
    },
    {
      "cell_type": "code",
      "execution_count": 11,
      "metadata": {
        "colab": {
          "base_uri": "https://localhost:8080/"
        },
        "id": "mbeSPZVFNODY",
        "outputId": "485efa19-ee8a-4db4-eeff-b977adbce1e5"
      },
      "outputs": [
        {
          "data": {
            "text/plain": [
              "dict_keys(['FirstName', 'LastName', (1, 2), 'Age', 2, 2.3, 'Profession', -33.5, (1, 3), True])"
            ]
          },
          "execution_count": 11,
          "metadata": {},
          "output_type": "execute_result"
        }
      ],
      "source": [
        "person.keys() # Метод \"keys\" выведет на экран ключи словаря"
      ]
    },
    {
      "cell_type": "code",
      "execution_count": 12,
      "metadata": {
        "colab": {
          "base_uri": "https://localhost:8080/"
        },
        "id": "Rkj32PUqNODY",
        "outputId": "21e92612-42f4-4170-de89-25940d8444cc"
      },
      "outputs": [
        {
          "data": {
            "text/plain": [
              "dict_values(['Isaaaaaaaaac', 'Newton', '123', 50, 123, 2.3, 'Scientist', 65535, [1, 2, 4], [1, 2, 4]])"
            ]
          },
          "execution_count": 12,
          "metadata": {},
          "output_type": "execute_result"
        }
      ],
      "source": [
        "person.values() # Метод \"values\" выведет на экран значения словаря"
      ]
    },
    {
      "cell_type": "code",
      "execution_count": 13,
      "metadata": {
        "colab": {
          "base_uri": "https://localhost:8080/"
        },
        "id": "T-aGEqllNODZ",
        "outputId": "d5f183e2-a865-4e86-a334-923621544498"
      },
      "outputs": [
        {
          "data": {
            "text/plain": [
              "True"
            ]
          },
          "execution_count": 13,
          "metadata": {},
          "output_type": "execute_result"
        }
      ],
      "source": [
        "'Isaaaaaaaaac' in person.values()"
      ]
    },
    {
      "cell_type": "code",
      "execution_count": 14,
      "metadata": {
        "colab": {
          "base_uri": "https://localhost:8080/"
        },
        "id": "kiG7RAYFNODZ",
        "outputId": "d095137d-5c74-429e-f377-f33fc5752862"
      },
      "outputs": [
        {
          "name": "stdout",
          "output_type": "stream",
          "text": [
            "{'LastName': 'Newton', (1, 2): '123', 'Age': 50, 2: 123, 2.3: 2.3, 'Profession': 'Scientist', -33.5: 65535, (1, 3): [1, 2, 4], True: [1, 2, 4]}\n"
          ]
        }
      ],
      "source": [
        "del person['FirstName']\n",
        "print(person)"
      ]
    },
    {
      "cell_type": "code",
      "execution_count": 15,
      "metadata": {
        "colab": {
          "base_uri": "https://localhost:8080/"
        },
        "id": "t7MyqT02NODZ",
        "outputId": "f1843bbe-de0a-4ad6-fcf3-fb14a39ecfce"
      },
      "outputs": [
        {
          "data": {
            "text/plain": [
              "dict_items([('LastName', 'Newton'), ((1, 2), '123'), ('Age', 50), (2, 123), (2.3, 2.3), ('Profession', 'Scientist'), (-33.5, 65535), ((1, 3), [1, 2, 4]), (True, [1, 2, 4])])"
            ]
          },
          "execution_count": 15,
          "metadata": {},
          "output_type": "execute_result"
        }
      ],
      "source": [
        "person.items() # Метод \"items\" выводит на экран пары ключ:значение "
      ]
    },
    {
      "cell_type": "markdown",
      "metadata": {},
      "source": [
        "Несмотря на то, что словарь и список - непохожие по структуре типы, но тем не менее существует возможности для отдельных видов списков преобразования их в словарь с помощью встроенной функции dict(). Для этого список должен хранить набор вложенных списков. Каждый вложенный список должен состоять из двух элементов - при конвертации в словарь первый элемент станет ключом, а второй - значением:"
      ]
    },
    {
      "cell_type": "code",
      "execution_count": 16,
      "metadata": {},
      "outputs": [
        {
          "name": "stdout",
          "output_type": "stream",
          "text": [
            "{'+111123455': 'Tom', '+384767557': 'Bob', '+958758767': 'Alice'}\n"
          ]
        }
      ],
      "source": [
        "users_list = [\n",
        "    [\"+111123455\", \"Tom\"],\n",
        "    [\"+384767557\", \"Bob\"],\n",
        "    [\"+958758767\", \"Alice\"]\n",
        "]\n",
        "users_dict = dict(users_list)\n",
        "print(users_dict)      # {\"+111123455\": \"Tom\", \"+384767557\": \"Bob\", \"+958758767\": \"Alice\"}"
      ]
    },
    {
      "cell_type": "markdown",
      "metadata": {},
      "source": [
        "Подобным образом можно преобразовать в словарь двухмерные кортежи, которые в свою очередь содержать кортежи из двух элементов:"
      ]
    },
    {
      "cell_type": "code",
      "execution_count": 17,
      "metadata": {},
      "outputs": [
        {
          "name": "stdout",
          "output_type": "stream",
          "text": [
            "{'+111123455': 'Tom', '+384767557': 'Bob', '+958758767': 'Alice'}\n"
          ]
        }
      ],
      "source": [
        "users_tuple = (\n",
        "    (\"+111123455\", \"Tom\"),\n",
        "    (\"+384767557\", \"Bob\"),\n",
        "    (\"+958758767\", \"Alice\")\n",
        ")\n",
        "users_dict = dict(users_tuple)\n",
        "print(users_dict)"
      ]
    },
    {
      "cell_type": "markdown",
      "metadata": {},
      "source": [
        "Для перебора словаря можно воспользоваться циклом for:"
      ]
    },
    {
      "cell_type": "code",
      "execution_count": 18,
      "metadata": {},
      "outputs": [
        {
          "name": "stdout",
          "output_type": "stream",
          "text": [
            "Phone: +11111111  User: Tom \n",
            "Phone: +33333333  User: Bob \n",
            "Phone: +55555555  User: Alice \n"
          ]
        }
      ],
      "source": [
        "users = {\n",
        "    \"+11111111\": \"Tom\",\n",
        "    \"+33333333\": \"Bob\",\n",
        "    \"+55555555\": \"Alice\"\n",
        "}\n",
        "for key in users:\n",
        "    print(f\"Phone: {key}  User: {users[key]} \")"
      ]
    },
    {
      "cell_type": "markdown",
      "metadata": {},
      "source": [
        "Другой способ перебора элементов представляет использование метода items():"
      ]
    },
    {
      "cell_type": "code",
      "execution_count": 19,
      "metadata": {},
      "outputs": [
        {
          "name": "stdout",
          "output_type": "stream",
          "text": [
            "Phone: +11111111  User: Tom \n",
            "Phone: +33333333  User: Bob \n",
            "Phone: +55555555  User: Alice \n"
          ]
        }
      ],
      "source": [
        "users = {\n",
        "    \"+11111111\": \"Tom\",\n",
        "    \"+33333333\": \"Bob\",\n",
        "    \"+55555555\": \"Alice\"\n",
        "}\n",
        "for key, value in users.items():\n",
        "    print(f\"Phone: {key}  User: {value} \")"
      ]
    }
  ],
  "metadata": {
    "colab": {
      "include_colab_link": true,
      "provenance": []
    },
    "kernelspec": {
      "display_name": "Python 3",
      "language": "python",
      "name": "python3"
    },
    "language_info": {
      "codemirror_mode": {
        "name": "ipython",
        "version": 3
      },
      "file_extension": ".py",
      "mimetype": "text/x-python",
      "name": "python",
      "nbconvert_exporter": "python",
      "pygments_lexer": "ipython3",
      "version": "3.12.6"
    }
  },
  "nbformat": 4,
  "nbformat_minor": 0
}
