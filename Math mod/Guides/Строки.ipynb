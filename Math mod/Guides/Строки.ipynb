{
 "cells": [
  {
   "cell_type": "markdown",
   "id": "d1c6f547",
   "metadata": {},
   "source": [
    "## Строковые типы\n",
    "\n",
    "_Строка_ - неизменяемый контейнер символов"
   ]
  },
  {
   "cell_type": "code",
   "execution_count": null,
   "id": "6810ec32",
   "metadata": {},
   "outputs": [],
   "source": [
    "hello_string = 'Hello народ!' # Выводится всё что находится в первых инициализированных кавычках\n",
    "print(hello_string)"
   ]
  },
  {
   "cell_type": "code",
   "execution_count": null,
   "id": "cdea8155",
   "metadata": {},
   "outputs": [],
   "source": [
    "hello_string = '\"Hello\" народ!'\n",
    "print(hello_string)"
   ]
  },
  {
   "cell_type": "code",
   "execution_count": null,
   "id": "72eb3e1a",
   "metadata": {},
   "outputs": [],
   "source": [
    "hello_string = \"'Hello' народ!\"\n",
    "print(hello_string)"
   ]
  },
  {
   "cell_type": "code",
   "execution_count": null,
   "id": "02ccc970",
   "metadata": {},
   "outputs": [],
   "source": [
    "hello_string = \"Hello' народ!\"\n",
    "print(hello_string)"
   ]
  },
  {
   "cell_type": "code",
   "execution_count": null,
   "id": "fb2b8091",
   "metadata": {},
   "outputs": [],
   "source": [
    "hello_string"
   ]
  },
  {
   "cell_type": "code",
   "execution_count": null,
   "id": "dc18f884",
   "metadata": {},
   "outputs": [],
   "source": [
    "hello_string[0] # Обращение к каждому символу строки поэлементно"
   ]
  },
  {
   "cell_type": "code",
   "execution_count": 8,
   "id": "4f46431c",
   "metadata": {},
   "outputs": [],
   "source": [
    "#hello_string[0] = 'h' # Так нельзя"
   ]
  },
  {
   "cell_type": "code",
   "execution_count": null,
   "id": "eca436b4",
   "metadata": {},
   "outputs": [],
   "source": [
    "len(hello_string) # Функция len позволяющая измерить кол-во символов в строке"
   ]
  },
  {
   "cell_type": "code",
   "execution_count": null,
   "id": "d7fa7753",
   "metadata": {},
   "outputs": [],
   "source": [
    "type(hello_string)"
   ]
  },
  {
   "cell_type": "code",
   "execution_count": 10,
   "id": "fdcb820d",
   "metadata": {},
   "outputs": [],
   "source": [
    "hello_string = 2"
   ]
  },
  {
   "cell_type": "code",
   "execution_count": null,
   "id": "6b3332b6",
   "metadata": {},
   "outputs": [],
   "source": [
    "type(hello_string)"
   ]
  },
  {
   "cell_type": "code",
   "execution_count": null,
   "id": "d9ef6b7f",
   "metadata": {},
   "outputs": [],
   "source": [
    "s = \"Язык программирования 'Питон'\"\n",
    "print(s)"
   ]
  },
  {
   "cell_type": "markdown",
   "id": "844b6868",
   "metadata": {},
   "source": [
    "Одной из самых распространенных операций со строками является их объединение или конкатенация. Для объединения строк применяется операция сложения:"
   ]
  },
  {
   "cell_type": "code",
   "execution_count": null,
   "id": "17d31810",
   "metadata": {},
   "outputs": [],
   "source": [
    "s1 = \"Hello\"\n",
    "s2 = \"World\"\n",
    "s = s1 + \" \" + s2 + \"!\"    # Строки можно складывать между собой обычным оператором сложения\n",
    "print(s)"
   ]
  },
  {
   "cell_type": "markdown",
   "id": "f0484c13",
   "metadata": {},
   "source": [
    "С объединением двух строк все просто, но что, если нам надо сложить строку и число? В этом случае необходимо привести число к строке с помощью функции str():"
   ]
  },
  {
   "cell_type": "code",
   "execution_count": null,
   "id": "92c68bf7",
   "metadata": {},
   "outputs": [],
   "source": [
    "name = \"Tom\"\n",
    "age = 33\n",
    "info = \"Name: \" + name + \" Age: \" + str(age)\n",
    "print(info) "
   ]
  },
  {
   "cell_type": "code",
   "execution_count": null,
   "id": "74c92e21",
   "metadata": {},
   "outputs": [],
   "source": [
    "s[0:5] # Использование \"срезов\" в строках"
   ]
  },
  {
   "cell_type": "code",
   "execution_count": null,
   "id": "1564e2e3",
   "metadata": {},
   "outputs": [],
   "source": [
    "s*3 # Строки можно умножать :)"
   ]
  },
  {
   "cell_type": "code",
   "execution_count": null,
   "id": "9e5a5319",
   "metadata": {},
   "outputs": [],
   "source": [
    "s = \"0123456abc\"\n",
    "print(s[0])      # Первый символ\n",
    "print(s[1])      # Второй символ\n",
    "print(s[-1])     # Последний символ \n",
    "print(s[-2])     # Предпоследний символ"
   ]
  },
  {
   "cell_type": "markdown",
   "id": "0fbeca16",
   "metadata": {},
   "source": [
    "Особо следует сказать о сравнении строк. Сравнение производится в лексикографическом порядке. При сравнении строк принимается во внимание символы и их регистр. Так, цифровой символ условно меньше, чем любой алфавитный символ. Алфавитный символ в верхнем регистре условно меньше, чем алфавитные символы в нижнем регистре. Поэтому строка \"1a\" условно меньше, чем строка \"aa\". Вначале сравнение идет по первому символу. Если начальные символы обоих строк представляют цифры, то меньшей считается меньшая цифра, например, \"1a\" меньше, чем \"2a\".\n",
    "\n",
    "Если начальные символы представляют алфавитные символы в одном и том же регистре, то смотрят по алфавиту. Так, \"aa\" меньше, чем \"ba\", а \"ba\" меньше, чем \"ca\".\n",
    "\n",
    "Если первые символы одинаковые, в расчет берутся вторые символы при их наличии."
   ]
  },
  {
   "cell_type": "code",
   "execution_count": null,
   "id": "c06b2ed8",
   "metadata": {},
   "outputs": [],
   "source": [
    "str1 = \"1a\"\n",
    "str2 = \"aa\"\n",
    "str3 = \"Aa\"\n",
    "print(str1 > str2)  # False, так как первый символ в str1 - цифра\n",
    "print(str2 > str3)  # True, так как первый символ в str2 - в нижнем регистре"
   ]
  },
  {
   "cell_type": "markdown",
   "id": "dbb4a2f9",
   "metadata": {},
   "source": [
    "Зависимость от регистра не всегда желательна, так как по сути мы имеем дело с одинаковыми строками. В этом случае перед сравнением мы можем привести обе строки к одному из регистров."
   ]
  },
  {
   "cell_type": "code",
   "execution_count": null,
   "id": "5ba6651d",
   "metadata": {},
   "outputs": [],
   "source": [
    "s = \"Hello World!\"\n",
    "print(s)\n",
    "print(s.upper())\n",
    "print(s.lower())"
   ]
  },
  {
   "cell_type": "markdown",
   "id": "99401843",
   "metadata": {},
   "source": [
    "Для получения длины строки можно использовать функцию len():"
   ]
  },
  {
   "cell_type": "code",
   "execution_count": null,
   "id": "40af381b",
   "metadata": {},
   "outputs": [],
   "source": [
    "# upper(s) # так нельзя\n",
    "# s.len() # так нельзя"
   ]
  },
  {
   "cell_type": "code",
   "execution_count": null,
   "id": "6acbeec8",
   "metadata": {},
   "outputs": [],
   "source": [
    "s.upper()\n",
    "len(s)"
   ]
  },
  {
   "cell_type": "markdown",
   "id": "3081b1fb",
   "metadata": {},
   "source": [
    "С помощью выражения term in string можно найти подстроку term в строке string. Если подстрока найдена, то выражение вернет значение True, иначе возвращается значение False:"
   ]
  },
  {
   "cell_type": "code",
   "execution_count": null,
   "id": "a036619a",
   "metadata": {},
   "outputs": [],
   "source": [
    "text = \"hello world\"\n",
    "exist = \"hello\" in text\n",
    "print(exist)    # True\n",
    " \n",
    "exist = \"sword\" in text\n",
    "print(exist)    # False"
   ]
  },
  {
   "cell_type": "markdown",
   "id": "a418d9af",
   "metadata": {},
   "source": [
    "Соответственно с помощью операторов not in можно проверить отсутствие подстроки в строке:"
   ]
  },
  {
   "cell_type": "code",
   "execution_count": null,
   "id": "b06727ac",
   "metadata": {},
   "outputs": [],
   "source": [
    "text = \"hello world\"\n",
    "print(\"hello\" not in text)    # False\n",
    "print(\"sword\" not in text)    # True"
   ]
  }
 ],
 "metadata": {
  "kernelspec": {
   "display_name": "Python 3 (ipykernel)",
   "language": "python",
   "name": "python3"
  },
  "language_info": {
   "codemirror_mode": {
    "name": "ipython",
    "version": 3
   },
   "file_extension": ".py",
   "mimetype": "text/x-python",
   "name": "python",
   "nbconvert_exporter": "python",
   "pygments_lexer": "ipython3",
   "version": "3.12.6"
  }
 },
 "nbformat": 4,
 "nbformat_minor": 5
}
