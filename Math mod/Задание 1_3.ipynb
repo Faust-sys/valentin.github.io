{
 "cells": [
  {
   "cell_type": "markdown",
   "metadata": {},
   "source": [
    "## Выполните следующие задания на Python без использования сторонних библиотек"
   ]
  },
  {
   "cell_type": "markdown",
   "metadata": {},
   "source": [
    "## Задача 1\n",
    "Написать программу, которая будет выводить на экран числа Фибоначчи, которые меньше переданного числа."
   ]
  },
  {
   "cell_type": "code",
   "execution_count": 1,
   "metadata": {},
   "outputs": [
    {
     "name": "stdout",
     "output_type": "stream",
     "text": [
      "[0, 1, 1, 2, 3, 5, 8, 13, 21, 34, 55, 89, 144, 233, 377]\n"
     ]
    }
   ],
   "source": [
    "fin = int(input(\"Введите число\\n\"))\n",
    "max = 0\n",
    "fib = [0,1]\n",
    "for num in fib:\n",
    "    if max < fin:\n",
    "        max = fib [-2] + fib [-1]\n",
    "        fib.append(max)\n",
    "    else:\n",
    "        break\n",
    "print(fib)"
   ]
  },
  {
   "cell_type": "markdown",
   "metadata": {},
   "source": [
    "## Задача 2\n",
    "Напишите программу, которая на вход принимает список чисел и возвращает только уникальные значения из этого списка."
   ]
  },
  {
   "cell_type": "code",
   "execution_count": 4,
   "metadata": {},
   "outputs": [
    {
     "name": "stdout",
     "output_type": "stream",
     "text": [
      "[1, 6, 8, 4, 2, 3, 5, 9, 7]\n"
     ]
    }
   ],
   "source": [
    "num_string = input(\"Введите числа\")\n",
    "num_list = num_string.split(\" \")\n",
    "num_list = [int(num) for num in num_list]\n",
    "for num_firstlist in num_list:\n",
    "    counter = 0\n",
    "    for num_secondlist in num_list:\n",
    "        if num_firstlist == num_secondlist:\n",
    "            counter += 1\n",
    "            if counter > 1:\n",
    "                del num_list[num_list.index(num_firstlist)]\n",
    "print (num_list)"
   ]
  },
  {
   "cell_type": "markdown",
   "metadata": {},
   "source": [
    "## Задача 3\n",
    "Напишите программу, которая переводит температуру в градусах Фаренгейта в градусы Цельсия.\n"
   ]
  },
  {
   "cell_type": "code",
   "execution_count": 6,
   "metadata": {},
   "outputs": [
    {
     "name": "stdout",
     "output_type": "stream",
     "text": [
      "Температура в градусах цельсия: 0.0°С\n"
     ]
    }
   ],
   "source": [
    "far = float(input(\"Введите температуру в градусах Фаренгейта\\n\"))\n",
    "print(\"Температура в градусах цельсия: \"+str((far - 32)/1.8)+\"°С\")"
   ]
  },
  {
   "cell_type": "markdown",
   "metadata": {},
   "source": [
    "## Задача 4\n",
    "Напишите программу, которая проверяет, является ли строка палиндромом без использования стандартных методов."
   ]
  },
  {
   "cell_type": "code",
   "execution_count": 7,
   "metadata": {},
   "outputs": [
    {
     "name": "stdout",
     "output_type": "stream",
     "text": [
      "Строка является полиндромом\n"
     ]
    }
   ],
   "source": [
    "string = input('Введите строку\\n')\n",
    "string_reverse = string [::-1]\n",
    "if string == string_reverse:\n",
    "    print(\"Строка является полиндромом\")\n",
    "else:\n",
    "    print(\"Это не полиндром\")"
   ]
  }
 ],
 "metadata": {
  "kernelspec": {
   "display_name": "Python 3",
   "language": "python",
   "name": "python3"
  },
  "language_info": {
   "codemirror_mode": {
    "name": "ipython",
    "version": 3
   },
   "file_extension": ".py",
   "mimetype": "text/x-python",
   "name": "python",
   "nbconvert_exporter": "python",
   "pygments_lexer": "ipython3",
   "version": "3.13.7"
  }
 },
 "nbformat": 4,
 "nbformat_minor": 2
}
